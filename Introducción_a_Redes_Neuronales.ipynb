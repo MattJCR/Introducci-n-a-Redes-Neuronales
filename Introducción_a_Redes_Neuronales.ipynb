{
  "nbformat": 4,
  "nbformat_minor": 0,
  "metadata": {
    "colab": {
      "provenance": [],
      "authorship_tag": "ABX9TyP1whm1HbfmZ7wFK5//U/uB",
      "include_colab_link": true
    },
    "kernelspec": {
      "name": "python3",
      "display_name": "Python 3"
    },
    "language_info": {
      "name": "python"
    }
  },
  "cells": [
    {
      "cell_type": "markdown",
      "metadata": {
        "id": "view-in-github",
        "colab_type": "text"
      },
      "source": [
        "<a href=\"https://colab.research.google.com/github/MattJCR/Introduccion-a-Redes-Neuronales/blob/master/Introducci%C3%B3n_a_Redes_Neuronales.ipynb\" target=\"_parent\"><img src=\"https://colab.research.google.com/assets/colab-badge.svg\" alt=\"Open In Colab\"/></a>"
      ]
    },
    {
      "cell_type": "markdown",
      "source": [
        "# Introducción a Redes Neuronales\n",
        "Las redes neuronales son una técnica de aprendizaje automático que se inspira en la forma en que funciona el cerebro humano. Una red neuronal está compuesta por capas de neuronas interconectadas que procesan la información a medida que se mueve a través de la red. Cada neurona en una capa se conecta con todas las neuronas en la capa siguiente y utiliza una función de activación para determinar si debe activarse o no.\n",
        "\n",
        "Las redes neuronales se pueden utilizar para una variedad de tareas de aprendizaje automático, como clasificación, regresión, procesamiento de lenguaje natural y visión por computadora. Keras es una biblioteca de aprendizaje profundo que proporciona una API fácil de usar para construir redes neuronales."
      ],
      "metadata": {
        "id": "VJTA5QWLv_yX"
      }
    },
    {
      "cell_type": "markdown",
      "source": [
        "# Configuración\n",
        "Antes de empezar, asegúrate de tener instalado Python y la biblioteca Keras en tu computadora. Para instalar Keras, puedes utilizar pip, el administrador de paquetes de Python:"
      ],
      "metadata": {
        "id": "Yu5lD-zmwBtp"
      }
    },
    {
      "cell_type": "code",
      "execution_count": 1,
      "metadata": {
        "colab": {
          "base_uri": "https://localhost:8080/"
        },
        "id": "8gWC_lGDv-7m",
        "outputId": "182af068-184e-4469-b3cf-67ef16fa4618"
      },
      "outputs": [
        {
          "output_type": "stream",
          "name": "stdout",
          "text": [
            "Looking in indexes: https://pypi.org/simple, https://us-python.pkg.dev/colab-wheels/public/simple/\n",
            "Requirement already satisfied: keras in /usr/local/lib/python3.8/dist-packages (2.11.0)\n"
          ]
        }
      ],
      "source": [
        "pip install keras"
      ]
    },
    {
      "cell_type": "markdown",
      "source": [
        "También necesitarás otras bibliotecas como NumPy y Matplotlib para manipulación de datos y visualización de resultados. Puedes instalarlos con pip:"
      ],
      "metadata": {
        "id": "7nSZL3_5wIhv"
      }
    },
    {
      "cell_type": "code",
      "source": [
        "pip install numpy matplotlib"
      ],
      "metadata": {
        "colab": {
          "base_uri": "https://localhost:8080/"
        },
        "id": "zyq87WLSwJVD",
        "outputId": "a69f841b-3abd-461c-ba04-8a355d519f7a"
      },
      "execution_count": 2,
      "outputs": [
        {
          "output_type": "stream",
          "name": "stdout",
          "text": [
            "Looking in indexes: https://pypi.org/simple, https://us-python.pkg.dev/colab-wheels/public/simple/\n",
            "Requirement already satisfied: numpy in /usr/local/lib/python3.8/dist-packages (1.22.4)\n",
            "Requirement already satisfied: matplotlib in /usr/local/lib/python3.8/dist-packages (3.5.3)\n",
            "Requirement already satisfied: fonttools>=4.22.0 in /usr/local/lib/python3.8/dist-packages (from matplotlib) (4.38.0)\n",
            "Requirement already satisfied: kiwisolver>=1.0.1 in /usr/local/lib/python3.8/dist-packages (from matplotlib) (1.4.4)\n",
            "Requirement already satisfied: pyparsing>=2.2.1 in /usr/local/lib/python3.8/dist-packages (from matplotlib) (3.0.9)\n",
            "Requirement already satisfied: pillow>=6.2.0 in /usr/local/lib/python3.8/dist-packages (from matplotlib) (7.1.2)\n",
            "Requirement already satisfied: python-dateutil>=2.7 in /usr/local/lib/python3.8/dist-packages (from matplotlib) (2.8.2)\n",
            "Requirement already satisfied: packaging>=20.0 in /usr/local/lib/python3.8/dist-packages (from matplotlib) (23.0)\n",
            "Requirement already satisfied: cycler>=0.10 in /usr/local/lib/python3.8/dist-packages (from matplotlib) (0.11.0)\n",
            "Requirement already satisfied: six>=1.5 in /usr/local/lib/python3.8/dist-packages (from python-dateutil>=2.7->matplotlib) (1.15.0)\n"
          ]
        }
      ]
    },
    {
      "cell_type": "markdown",
      "source": [
        "# Ejemplo: Clasificación de Imágenes\n",
        "En este tutorial, construiremos una red neuronal para clasificar imágenes de dígitos escritos a mano. Utilizaremos el conjunto de datos MNIST, que contiene 60,000 imágenes de entrenamiento y 10,000 imágenes de prueba."
      ],
      "metadata": {
        "id": "wO9T7imawMgs"
      }
    },
    {
      "cell_type": "markdown",
      "source": [
        "## Importar bibliotecas\n",
        "Primero, importaremos las bibliotecas necesarias y cargaremos los datos de entrenamiento y prueba de MNIST utilizando la biblioteca Keras:"
      ],
      "metadata": {
        "id": "W6O6nEL6wQSQ"
      }
    },
    {
      "cell_type": "code",
      "source": [
        "import numpy as np\n",
        "import matplotlib.pyplot as plt\n",
        "from keras.datasets import mnist\n",
        "from keras.models import Sequential\n",
        "from keras.layers import Dense, Dropout, Flatten\n",
        "from keras.utils import np_utils\n",
        "\n",
        "# Cargar los datos de entrenamiento y prueba de MNIST\n",
        "(X_train, y_train), (X_test, y_test) = mnist.load_data()"
      ],
      "metadata": {
        "id": "cuKb5NGmwS21"
      },
      "execution_count": 3,
      "outputs": []
    },
    {
      "cell_type": "markdown",
      "source": [
        "El conjunto de datos \"MNIST\" es uno de los conjuntos de datos más populares en el aprendizaje profundo y la visión por computadora. Contiene imágenes de números escritos a mano, cada una etiquetada con el dígito que representa. El conjunto de datos MNIST consiste en 70,000 imágenes de tamaño 28x28 píxeles, con 60,000 imágenes destinadas al entrenamiento del modelo y 10,000 imágenes para la evaluación.\n",
        "\n",
        "El conjunto de datos MNIST se encuentra disponible en Keras como un conjunto de datos cargado por defecto, lo que significa que no necesitas descargar ni preparar el conjunto de datos por tu cuenta. Simplemente puedes importar el conjunto de datos desde el módulo keras.datasets y Keras cargará y preparará automáticamente el conjunto de datos para su uso en tu modelo."
      ],
      "metadata": {
        "id": "ZrivKaAmzYtu"
      }
    },
    {
      "cell_type": "code",
      "source": [
        "X_train"
      ],
      "metadata": {
        "colab": {
          "base_uri": "https://localhost:8080/"
        },
        "id": "hcnLCN69zsDU",
        "outputId": "0e72a15a-c493-4f89-e426-42af31b08ef0"
      },
      "execution_count": 4,
      "outputs": [
        {
          "output_type": "execute_result",
          "data": {
            "text/plain": [
              "array([[[0, 0, 0, ..., 0, 0, 0],\n",
              "        [0, 0, 0, ..., 0, 0, 0],\n",
              "        [0, 0, 0, ..., 0, 0, 0],\n",
              "        ...,\n",
              "        [0, 0, 0, ..., 0, 0, 0],\n",
              "        [0, 0, 0, ..., 0, 0, 0],\n",
              "        [0, 0, 0, ..., 0, 0, 0]],\n",
              "\n",
              "       [[0, 0, 0, ..., 0, 0, 0],\n",
              "        [0, 0, 0, ..., 0, 0, 0],\n",
              "        [0, 0, 0, ..., 0, 0, 0],\n",
              "        ...,\n",
              "        [0, 0, 0, ..., 0, 0, 0],\n",
              "        [0, 0, 0, ..., 0, 0, 0],\n",
              "        [0, 0, 0, ..., 0, 0, 0]],\n",
              "\n",
              "       [[0, 0, 0, ..., 0, 0, 0],\n",
              "        [0, 0, 0, ..., 0, 0, 0],\n",
              "        [0, 0, 0, ..., 0, 0, 0],\n",
              "        ...,\n",
              "        [0, 0, 0, ..., 0, 0, 0],\n",
              "        [0, 0, 0, ..., 0, 0, 0],\n",
              "        [0, 0, 0, ..., 0, 0, 0]],\n",
              "\n",
              "       ...,\n",
              "\n",
              "       [[0, 0, 0, ..., 0, 0, 0],\n",
              "        [0, 0, 0, ..., 0, 0, 0],\n",
              "        [0, 0, 0, ..., 0, 0, 0],\n",
              "        ...,\n",
              "        [0, 0, 0, ..., 0, 0, 0],\n",
              "        [0, 0, 0, ..., 0, 0, 0],\n",
              "        [0, 0, 0, ..., 0, 0, 0]],\n",
              "\n",
              "       [[0, 0, 0, ..., 0, 0, 0],\n",
              "        [0, 0, 0, ..., 0, 0, 0],\n",
              "        [0, 0, 0, ..., 0, 0, 0],\n",
              "        ...,\n",
              "        [0, 0, 0, ..., 0, 0, 0],\n",
              "        [0, 0, 0, ..., 0, 0, 0],\n",
              "        [0, 0, 0, ..., 0, 0, 0]],\n",
              "\n",
              "       [[0, 0, 0, ..., 0, 0, 0],\n",
              "        [0, 0, 0, ..., 0, 0, 0],\n",
              "        [0, 0, 0, ..., 0, 0, 0],\n",
              "        ...,\n",
              "        [0, 0, 0, ..., 0, 0, 0],\n",
              "        [0, 0, 0, ..., 0, 0, 0],\n",
              "        [0, 0, 0, ..., 0, 0, 0]]], dtype=uint8)"
            ]
          },
          "metadata": {},
          "execution_count": 4
        }
      ]
    },
    {
      "cell_type": "code",
      "source": [
        "y_train"
      ],
      "metadata": {
        "colab": {
          "base_uri": "https://localhost:8080/"
        },
        "id": "AF8V7LZnztN8",
        "outputId": "bb2aa4c0-83b2-4ba7-9b1b-e1c978bd6d50"
      },
      "execution_count": 5,
      "outputs": [
        {
          "output_type": "execute_result",
          "data": {
            "text/plain": [
              "array([5, 0, 4, ..., 5, 6, 8], dtype=uint8)"
            ]
          },
          "metadata": {},
          "execution_count": 5
        }
      ]
    },
    {
      "cell_type": "markdown",
      "source": [
        "## Preprocesamiento de datos\n",
        "Antes de entrenar la red neuronal, necesitamos preprocesar los datos. Primero, normalizaremos los píxeles de imagen para que tengan valores entre 0 y 1 en lugar de 0 y 255. Luego, convertiremos las etiquetas de clase en un formato codificado de un solo vector utilizando la función np_utils.to_categorical() de Keras:"
      ],
      "metadata": {
        "id": "JAIp0fYGwUWm"
      }
    },
    {
      "cell_type": "code",
      "source": [
        "# Normalizar los píxeles de imagen\n",
        "X_train = X_train.astype('float32') / 255\n",
        "X_test = X_test.astype('float32') / 255\n",
        "\n",
        "# Codificar las etiquetas de clase\n",
        "y_train = np_utils.to_categorical(y_train, 10)\n",
        "y_test = np_utils.to_categorical(y_test, 10)"
      ],
      "metadata": {
        "id": "_6OJ73BVwXTS"
      },
      "execution_count": 6,
      "outputs": []
    },
    {
      "cell_type": "code",
      "source": [
        "y_train"
      ],
      "metadata": {
        "colab": {
          "base_uri": "https://localhost:8080/"
        },
        "id": "EfnBmIeVz9sb",
        "outputId": "077a336f-f984-4d17-d72e-d990902841c7"
      },
      "execution_count": 7,
      "outputs": [
        {
          "output_type": "execute_result",
          "data": {
            "text/plain": [
              "array([[0., 0., 0., ..., 0., 0., 0.],\n",
              "       [1., 0., 0., ..., 0., 0., 0.],\n",
              "       [0., 0., 0., ..., 0., 0., 0.],\n",
              "       ...,\n",
              "       [0., 0., 0., ..., 0., 0., 0.],\n",
              "       [0., 0., 0., ..., 0., 0., 0.],\n",
              "       [0., 0., 0., ..., 0., 1., 0.]], dtype=float32)"
            ]
          },
          "metadata": {},
          "execution_count": 7
        }
      ]
    },
    {
      "cell_type": "code",
      "source": [
        "y_test"
      ],
      "metadata": {
        "colab": {
          "base_uri": "https://localhost:8080/"
        },
        "id": "l68APKQ20CXh",
        "outputId": "3e48592f-1976-483c-d481-12801ab3aa6e"
      },
      "execution_count": 8,
      "outputs": [
        {
          "output_type": "execute_result",
          "data": {
            "text/plain": [
              "array([[0., 0., 0., ..., 1., 0., 0.],\n",
              "       [0., 0., 1., ..., 0., 0., 0.],\n",
              "       [0., 1., 0., ..., 0., 0., 0.],\n",
              "       ...,\n",
              "       [0., 0., 0., ..., 0., 0., 0.],\n",
              "       [0., 0., 0., ..., 0., 0., 0.],\n",
              "       [0., 0., 0., ..., 0., 0., 0.]], dtype=float32)"
            ]
          },
          "metadata": {},
          "execution_count": 8
        }
      ]
    },
    {
      "cell_type": "markdown",
      "source": [
        "## Construir la red neuronal\n",
        "A continuación, construiremos la red neuronal utilizando la clase Sequential de Keras. Esta clase nos permite crear una pila de capas de forma secuencial.\n",
        "\n",
        "En nuestra red neuronal, tendremos una capa de entrada que aplanará la imagen de entrada de 28x28 píxeles en un vector de una sola dimensión de 784 píxeles. Luego, tendremos dos capas ocultas con 128 y 64 neuronas, respectivamente, seguidas de una capa de salida con 10 neuronas, una para cada clase.\n",
        "\n",
        "Utilizaremos la función de activación ReLU en las capas ocultas y la función de activación softmax en la capa de salida. La función softmax asigna probabilidades a cada clase y se utiliza para la clasificación de múltiples clases.\n",
        "\n",
        "También incluiremos una capa de abandono (Dropout) en cada capa oculta para evitar el sobreajuste. La capa de abandono apaga aleatoriamente un porcentaje de las neuronas en cada iteración de entrenamiento, lo que obliga a la red neuronal a aprender características más robustas en lugar de simplemente memorizar los datos de entrenamiento."
      ],
      "metadata": {
        "id": "j6mRHaBtwZ68"
      }
    },
    {
      "cell_type": "code",
      "source": [
        "# Crear un modelo de red neuronal\n",
        "model = Sequential()\n",
        "\n",
        "# Agregar una capa de entrada que aplane la imagen en un vector de una sola dimensión\n",
        "model.add(Flatten(input_shape=X_train.shape[1:]))\n",
        "\n",
        "# Agregar dos capas ocultas con la función de activación ReLU y la capa de abandono\n",
        "model.add(Dense(128, activation='relu'))\n",
        "model.add(Dropout(0.5))\n",
        "model.add(Dense(64, activation='relu'))\n",
        "model.add(Dropout(0.5))\n",
        "\n",
        "# Agregar una capa de salida con la función de activación softmax\n",
        "model.add(Dense(10, activation='softmax'))"
      ],
      "metadata": {
        "id": "MRPJghVwwb4q"
      },
      "execution_count": 9,
      "outputs": []
    },
    {
      "cell_type": "markdown",
      "source": [
        "## Compilar el modelo\n",
        "Después de construir la red neuronal, debemos compilarla antes de entrenarla. Al compilar el modelo, debemos especificar la función de pérdida, el optimizador y las métricas que se utilizarán para evaluar el rendimiento del modelo.\n",
        "\n",
        "Utilizaremos la función de pérdida categorical_crossentropy, que se utiliza comúnmente en la clasificación de múltiples clases, el optimizador adam, que es un algoritmo de optimización eficaz y las métricas accuracy, que nos indican la precisión de la clasificación."
      ],
      "metadata": {
        "id": "vKdp_VBuwduJ"
      }
    },
    {
      "cell_type": "code",
      "source": [
        "# Compilar el modelo\n",
        "model.compile(loss='categorical_crossentropy', optimizer='adam', metrics=['accuracy'])"
      ],
      "metadata": {
        "id": "GbpX_ciewfbK"
      },
      "execution_count": 10,
      "outputs": []
    },
    {
      "cell_type": "markdown",
      "source": [
        "## Entrenar el modelo\n",
        "Una vez compilado el modelo, podemos entrenarlo en los datos de entrenamiento. Para hacerlo, utilizaremos la función fit() de Keras. Especificaremos el número de épocas de entrenamiento y el tamaño del lote (batch size), que indica el número de muestras que se procesan a la vez durante el entrenamiento."
      ],
      "metadata": {
        "id": "W_f3_7XOwhDq"
      }
    },
    {
      "cell_type": "code",
      "source": [
        "# Entrenar el modelo\n",
        "history = model.fit(X_train, y_train, validation_data=(X_test, y_test), epochs=20, batch_size=128)"
      ],
      "metadata": {
        "colab": {
          "base_uri": "https://localhost:8080/"
        },
        "id": "gc4LJdU-witm",
        "outputId": "74f6f6c4-6b91-487a-d0d1-7f6c79c8e4a4"
      },
      "execution_count": 11,
      "outputs": [
        {
          "output_type": "stream",
          "name": "stdout",
          "text": [
            "Epoch 1/20\n",
            "469/469 [==============================] - 8s 14ms/step - loss: 0.7584 - accuracy: 0.7631 - val_loss: 0.2331 - val_accuracy: 0.9303\n",
            "Epoch 2/20\n",
            "469/469 [==============================] - 6s 12ms/step - loss: 0.3668 - accuracy: 0.8978 - val_loss: 0.1759 - val_accuracy: 0.9455\n",
            "Epoch 3/20\n",
            "469/469 [==============================] - 7s 14ms/step - loss: 0.3028 - accuracy: 0.9161 - val_loss: 0.1538 - val_accuracy: 0.9543\n",
            "Epoch 4/20\n",
            "469/469 [==============================] - 6s 13ms/step - loss: 0.2670 - accuracy: 0.9260 - val_loss: 0.1418 - val_accuracy: 0.9582\n",
            "Epoch 5/20\n",
            "469/469 [==============================] - 4s 9ms/step - loss: 0.2409 - accuracy: 0.9334 - val_loss: 0.1258 - val_accuracy: 0.9634\n",
            "Epoch 6/20\n",
            "469/469 [==============================] - 3s 7ms/step - loss: 0.2266 - accuracy: 0.9366 - val_loss: 0.1186 - val_accuracy: 0.9658\n",
            "Epoch 7/20\n",
            "469/469 [==============================] - 3s 6ms/step - loss: 0.2156 - accuracy: 0.9396 - val_loss: 0.1127 - val_accuracy: 0.9662\n",
            "Epoch 8/20\n",
            "469/469 [==============================] - 3s 7ms/step - loss: 0.1999 - accuracy: 0.9434 - val_loss: 0.1139 - val_accuracy: 0.9659\n",
            "Epoch 9/20\n",
            "469/469 [==============================] - 4s 9ms/step - loss: 0.1925 - accuracy: 0.9466 - val_loss: 0.1068 - val_accuracy: 0.9684\n",
            "Epoch 10/20\n",
            "469/469 [==============================] - 3s 7ms/step - loss: 0.1831 - accuracy: 0.9485 - val_loss: 0.1044 - val_accuracy: 0.9702\n",
            "Epoch 11/20\n",
            "469/469 [==============================] - 3s 7ms/step - loss: 0.1755 - accuracy: 0.9504 - val_loss: 0.0994 - val_accuracy: 0.9709\n",
            "Epoch 12/20\n",
            "469/469 [==============================] - 3s 7ms/step - loss: 0.1717 - accuracy: 0.9511 - val_loss: 0.1007 - val_accuracy: 0.9708\n",
            "Epoch 13/20\n",
            "469/469 [==============================] - 6s 13ms/step - loss: 0.1646 - accuracy: 0.9534 - val_loss: 0.1003 - val_accuracy: 0.9701\n",
            "Epoch 14/20\n",
            "469/469 [==============================] - 6s 13ms/step - loss: 0.1657 - accuracy: 0.9541 - val_loss: 0.0963 - val_accuracy: 0.9723\n",
            "Epoch 15/20\n",
            "469/469 [==============================] - 4s 8ms/step - loss: 0.1579 - accuracy: 0.9549 - val_loss: 0.0975 - val_accuracy: 0.9720\n",
            "Epoch 16/20\n",
            "469/469 [==============================] - 4s 8ms/step - loss: 0.1540 - accuracy: 0.9556 - val_loss: 0.0971 - val_accuracy: 0.9729\n",
            "Epoch 17/20\n",
            "469/469 [==============================] - 3s 6ms/step - loss: 0.1531 - accuracy: 0.9559 - val_loss: 0.0922 - val_accuracy: 0.9723\n",
            "Epoch 18/20\n",
            "469/469 [==============================] - 3s 7ms/step - loss: 0.1482 - accuracy: 0.9566 - val_loss: 0.0909 - val_accuracy: 0.9747\n",
            "Epoch 19/20\n",
            "469/469 [==============================] - 4s 9ms/step - loss: 0.1467 - accuracy: 0.9577 - val_loss: 0.0919 - val_accuracy: 0.9730\n",
            "Epoch 20/20\n",
            "469/469 [==============================] - 3s 7ms/step - loss: 0.1419 - accuracy: 0.9592 - val_loss: 0.0936 - val_accuracy: 0.9727\n"
          ]
        }
      ]
    },
    {
      "cell_type": "markdown",
      "source": [
        "Durante el entrenamiento, el modelo ajustará los pesos de las neuronas para minimizar la función de pérdida en los datos de entrenamiento. También evaluaremos el rendimiento del modelo en los datos de prueba después de cada época de entrenamiento utilizando la función evaluate(). Esta función devuelve la pérdida del modelo y las métricas especificadas durante la compilación."
      ],
      "metadata": {
        "id": "ktXmh1hzwkbR"
      }
    },
    {
      "cell_type": "code",
      "source": [
        "# Evaluar el rendimiento del modelo en los datos de prueba\n",
        "loss, accuracy = model.evaluate(X_test, y_test)\n",
        "print(f\"Pérdida del modelo en los datos de prueba: {loss:.4f}\")\n",
        "print(f\"Precisión del modelo en los datos de prueba: {accuracy:.4f}\")"
      ],
      "metadata": {
        "colab": {
          "base_uri": "https://localhost:8080/"
        },
        "id": "GuSEXrbvwlMO",
        "outputId": "c75e0631-cd75-4884-c34e-ef0040ac7c06"
      },
      "execution_count": 12,
      "outputs": [
        {
          "output_type": "stream",
          "name": "stdout",
          "text": [
            "313/313 [==============================] - 1s 2ms/step - loss: 0.0936 - accuracy: 0.9727\n",
            "Pérdida del modelo en los datos de prueba: 0.0936\n",
            "Precisión del modelo en los datos de prueba: 0.9727\n"
          ]
        }
      ]
    },
    {
      "cell_type": "markdown",
      "source": [
        "## Visualización de resultados\n",
        "Podemos visualizar la precisión y la pérdida del modelo durante el entrenamiento utilizando la biblioteca Matplotlib. Esto nos permite ver cómo se desempeña el modelo en los datos de entrenamiento y prueba a medida que avanza el entrenamiento."
      ],
      "metadata": {
        "id": "mSz4K8oYwnV2"
      }
    },
    {
      "cell_type": "code",
      "source": [
        "# Graficar la precisión del modelo durante el entrenamiento\n",
        "plt.plot(history.history['accuracy'])\n",
        "plt.plot(history.history['val_accuracy'])\n",
        "plt.title('Precisión del modelo')\n",
        "plt.ylabel('Precisión')\n",
        "plt.xlabel('Época')\n",
        "plt.legend(['Entrenamiento', 'Prueba'], loc='upper left')\n",
        "plt.show()"
      ],
      "metadata": {
        "colab": {
          "base_uri": "https://localhost:8080/",
          "height": 297
        },
        "id": "uTDQhlV8wqus",
        "outputId": "86166899-a5b1-4014-a816-03b87c73177f"
      },
      "execution_count": 13,
      "outputs": [
        {
          "output_type": "display_data",
          "data": {
            "text/plain": [
              "<Figure size 432x288 with 1 Axes>"
            ],
            "image/png": "[encoded data removed]"
          },
          "metadata": {
            "needs_background": "light"
          }
        }
      ]
    },
    {
      "cell_type": "code",
      "source": [
        "# Graficar la pérdida del modelo durante el entrenamiento\n",
        "plt.plot(history.history['loss'])\n",
        "plt.plot(history.history['val_loss'])\n",
        "plt.title('Pérdida del modelo')\n",
        "plt.ylabel('Pérdida')\n",
        "plt.xlabel('Época')\n",
        "plt.legend(['Entrenamiento', 'Prueba'], loc='upper left')\n",
        "plt.show()"
      ],
      "metadata": {
        "colab": {
          "base_uri": "https://localhost:8080/",
          "height": 297
        },
        "id": "C2tfiw97wr22",
        "outputId": "9d23bea9-2037-4fc9-d34f-76af575b57d8"
      },
      "execution_count": 14,
      "outputs": [
        {
          "output_type": "display_data",
          "data": {
            "text/plain": [
              "<Figure size 432x288 with 1 Axes>"
            ],
            "image/png": "[encoded data removed]"
          },
          "metadata": {
            "needs_background": "light"
          }
        }
      ]
    },
    {
      "cell_type": "markdown",
      "source": [
        "# Recomendaciones de Optimización\n",
        "\n",
        "1. **Tamaño del lote (batch size)**: Un tamaño de lote adecuado depende del tamaño del conjunto de datos y la cantidad de memoria disponible. Si tienes un conjunto de datos grande y suficiente memoria, puedes aumentar el tamaño del lote para acelerar el entrenamiento. Por ejemplo, si tienes 100,000 imágenes en un conjunto de datos, un tamaño de lote de 128 sería adecuado para la mayoría de las configuraciones de hardware. Pero si tienes suficiente memoria y hardware adecuado, podrías usar un tamaño de lote de 512 o incluso 1024 para acelerar el entrenamiento. Aquí hay un ejemplo de cómo establecer el tamaño del lote en Keras:\n",
        "```\n",
        "batch_size = 128\n",
        "model.fit(X_train, y_train, batch_size=batch_size, epochs=10)\n",
        "```\n",
        "2. **Número de épocas**: El número de épocas depende del tamaño del conjunto de datos y la complejidad del modelo. Si el modelo es demasiado simple, puede necesitar más épocas para converger, mientras que un modelo demasiado complejo puede requerir menos épocas. También es importante evitar el sobreajuste, por lo que puede ser necesario reducir el número de épocas. Por ejemplo, aquí está cómo establecer el número de épocas en Keras:\n",
        "```\n",
        "epochs = 10\n",
        "model.fit(X_train, y_train, batch_size=128, epochs=epochs)\n",
        "```\n",
        "3. **Función de pérdida**: La función de pérdida debe elegirse en función del problema de aprendizaje automático. Para un problema de clasificación binaria, la función de pérdida comúnmente utilizada es \"binary_crossentropy\". Para un problema de clasificación múltiple, la función de pérdida \"categorical_crossentropy\" suele ser la mejor opción. Aquí hay un ejemplo de cómo especificar la función de pérdida en Keras:\n",
        "```\n",
        "model.compile(optimizer='adam', loss='binary_crossentropy', metrics=['accuracy'])\n",
        "```\n",
        "4. **Optimizador**: El optimizador utilizado depende del problema de aprendizaje automático. El algoritmo \"Adam\" es el optimizador predeterminado en Keras y es una buena opción para la mayoría de los problemas. Sin embargo, hay otros optimizadores disponibles que pueden ser más efectivos para ciertos problemas. Por ejemplo, el optimizador \"RMSprop\" puede ser mejor para problemas de redes neuronales recurrentes. Aquí hay un ejemplo de cómo especificar el optimizador en Keras:\n",
        "```\n",
        "from keras.optimizers import Adam, RMSprop\n",
        "optimizer = Adam(lr=0.001)\n",
        "model.compile(optimizer=optimizer, loss='binary_crossentropy', metrics=['accuracy'])\n",
        "```\n",
        "5. **Regularización**: La regularización es una técnica para reducir el sobrefitado en la red neuronal. Una forma común de regularización es la técnica \"dropout\", que elimina aleatoriamente las neuronas durante el entrenamiento. Aquí hay un ejemplo de cómo agregar dropout a una red neuronal en Keras:\n",
        "```\n",
        "from keras.layers import Dropout\n",
        "model.add(Dense(64, activation='relu'))\n",
        "model.add(Dropout(0.5))\n",
        "model.add(Dense(1, activation='sigmoid'))\n",
        "```\n",
        "6. **Aumento de datos**: El aumento de datos es una técnica que se utiliza para aumentar la cantidad de datos de entrenamiento mediante la creación de nuevas instancias de entrenamiento a partir de las instancias de entrenamiento existentes. Esto ayuda a reducir el sobreajuste y mejorar el rendimiento del modelo. Keras proporciona una variedad de herramientas para la realización de aumentos de datos, como la rotación, el zoom, el desplazamiento, etc. Aquí hay un ejemplo de cómo realizar el aumento de datos en Keras:\n",
        "```\n",
        "from keras.preprocessing.image import ImageDataGenerator\n",
        "datagen = ImageDataGenerator(\n",
        "   rotation_range=20,\n",
        "   width_shift_range=0.1,\n",
        "   height_shift_range=0.1,\n",
        "   shear_range=0.2,\n",
        "   zoom_range=0.2,\n",
        "   horizontal_flip=True,\n",
        "   fill_mode='nearest')\n",
        "```\n",
        "7. **Inicialización de pesos**: La inicialización de pesos es una técnica para inicializar los pesos de la red neuronal con valores adecuados. La elección de la técnica de inicialización de pesos depende del tipo de capa. Por ejemplo, las capas de activación \"tanh\" y \"sigmoid\" se inicializan comúnmente con la técnica \"glorot\", mientras que las capas de activación \"ReLU\" se inicializan mejor con la técnica \"He\". Aquí hay un ejemplo de cómo inicializar los pesos de una capa en Keras:\n",
        "```\n",
        "from keras.initializers import GlorotNormal, HeNormal\n",
        "model.add(Dense(64, activation='relu', kernel_initializer=HeNormal()))\n",
        "```"
      ],
      "metadata": {
        "id": "UbJhSun3w0rl"
      }
    },
    {
      "cell_type": "markdown",
      "source": [
        "# Profundizar en la construcción y entrenamiento de redes neuronales con Keras en Python\n",
        "Ahora vamos a profundizar en la construcción y entrenamiento de redes neuronales con Keras en Python.\n",
        "\n",
        "Vamos a cubrir los siguientes puntos:\n",
        "\n",
        "* Capas avanzadas: dropout, batch normalization y más\n",
        "* Funciones de activación avanzadas: ReLU, LeakyReLU y más\n",
        "* Optimizadores avanzados: RMSprop, Adam y más\n",
        "* Regularización avanzada: L1, L2 y más\n",
        "* Reducción del learning rate para mejorar el entrenamiento\n",
        "* Early stopping para evitar el sobreajuste"
      ],
      "metadata": {
        "id": "iQG_ZFwc2ob6"
      }
    },
    {
      "cell_type": "markdown",
      "source": [
        "## Capas avanzadas\n",
        "Las capas avanzadas en Keras nos permiten construir redes neuronales más complejas y efectivas. Algunas de las capas más utilizadas son:\n",
        "\n",
        "* Dropout: Esta capa se utiliza para evitar el sobreajuste. El dropout desactiva aleatoriamente algunas de las neuronas durante el entrenamiento, lo que hace que la red neuronal sea más robusta y menos sensible a las entradas específicas de los datos.\n",
        "\n",
        "* BatchNormalization: Esta capa normaliza las activaciones de la capa anterior. Esto ayuda a reducir la covariación entre las capas y a acelerar el entrenamiento.\n",
        "\n",
        "* Conv2DTranspose: Esta capa se utiliza para la construcción de redes neuronales generativas. Es la capa de convolución inversa que toma un tensor de baja dimensión y lo convierte en uno de alta dimensión.\n",
        "\n",
        "* MaxPooling2D: Esta capa reduce la dimensión espacial de los mapas de características. Esto reduce la cantidad de parámetros y el costo computacional, lo que acelera el entrenamiento.\n",
        "\n",
        "* GlobalMaxPooling2D: Esta capa realiza una reducción global de la dimensionalidad. Es útil para la clasificación de imágenes en las que la posición de los objetos no es importante.\n",
        "\n",
        "* Flatten: Esta capa se utiliza para aplanar los datos de entrada de una red neuronal. Convierte una entrada de alta dimensión, como una imagen, en una matriz unidimensional para que pueda ser procesada por una capa densa o totalmente conectada. Es comúnmente utilizada en la construcción de redes neuronales convolucionales, ya que las capas convolucionales producen mapas de características tridimensionales que deben ser aplanados antes de ser alimentados a una capa densa. La capa Flatten no tiene parámetros entrenables y simplemente reformatea los datos de entrada."
      ],
      "metadata": {
        "id": "WCosLveo3tZ1"
      }
    },
    {
      "cell_type": "code",
      "source": [
        "from keras.layers import Conv2D, MaxPooling2D, Flatten\n",
        "\n",
        "model = Sequential()\n",
        "model.add(Conv2D(32, kernel_size=(3, 3), activation='relu', input_shape=(28, 28, 1)))\n",
        "model.add(MaxPooling2D(pool_size=(2, 2)))\n",
        "model.add(Conv2D(64, (3, 3), activation='relu'))\n",
        "model.add(MaxPooling2D(pool_size=(2, 2)))\n",
        "model.add(Flatten())\n",
        "model.add(Dense(128, activation='relu'))\n",
        "model.add(Dropout(0.5))\n",
        "model.add(Dense(10, activation='softmax'))"
      ],
      "metadata": {
        "id": "hD1BucFf4OPj"
      },
      "execution_count": 15,
      "outputs": []
    },
    {
      "cell_type": "code",
      "source": [
        "# Compilar el modelo\n",
        "model.compile(loss='categorical_crossentropy', optimizer='adam', metrics=['accuracy'])"
      ],
      "metadata": {
        "id": "oWEkk6yL7O_e"
      },
      "execution_count": 16,
      "outputs": []
    },
    {
      "cell_type": "code",
      "source": [
        "# Entrenar el modelo\n",
        "history = model.fit(X_train, y_train, validation_data=(X_test, y_test), epochs=5, batch_size=128, use_multiprocessing=True)"
      ],
      "metadata": {
        "colab": {
          "base_uri": "https://localhost:8080/"
        },
        "outputId": "b9c135ac-7b6a-4a2f-eaf8-cc778f5c49f6",
        "id": "xXtpcNUM66a4"
      },
      "execution_count": 17,
      "outputs": [
        {
          "output_type": "stream",
          "name": "stdout",
          "text": [
            "Epoch 1/5\n",
            "469/469 [==============================] - 58s 121ms/step - loss: 0.3147 - accuracy: 0.9040 - val_loss: 0.0583 - val_accuracy: 0.9812\n",
            "Epoch 2/5\n",
            "469/469 [==============================] - 56s 119ms/step - loss: 0.0992 - accuracy: 0.9706 - val_loss: 0.0425 - val_accuracy: 0.9863\n",
            "Epoch 3/5\n",
            "469/469 [==============================] - 58s 125ms/step - loss: 0.0727 - accuracy: 0.9780 - val_loss: 0.0338 - val_accuracy: 0.9874\n",
            "Epoch 4/5\n",
            "469/469 [==============================] - 56s 119ms/step - loss: 0.0599 - accuracy: 0.9818 - val_loss: 0.0331 - val_accuracy: 0.9892\n",
            "Epoch 5/5\n",
            "469/469 [==============================] - 55s 117ms/step - loss: 0.0511 - accuracy: 0.9848 - val_loss: 0.0259 - val_accuracy: 0.9912\n"
          ]
        }
      ]
    },
    {
      "cell_type": "code",
      "source": [
        "# Evaluar el rendimiento del modelo en los datos de prueba\n",
        "loss, accuracy = model.evaluate(X_test, y_test)\n",
        "print(f\"Pérdida del modelo en los datos de prueba: {loss:.4f}\")\n",
        "print(f\"Precisión del modelo en los datos de prueba: {accuracy:.4f}\")"
      ],
      "metadata": {
        "colab": {
          "base_uri": "https://localhost:8080/"
        },
        "outputId": "28aa7d54-61bb-4805-c5f7-035dc01023b0",
        "id": "G54ZTtnQ66a5"
      },
      "execution_count": 18,
      "outputs": [
        {
          "output_type": "stream",
          "name": "stdout",
          "text": [
            "313/313 [==============================] - 5s 15ms/step - loss: 0.0259 - accuracy: 0.9912\n",
            "Pérdida del modelo en los datos de prueba: 0.0259\n",
            "Precisión del modelo en los datos de prueba: 0.9912\n"
          ]
        }
      ]
    },
    {
      "cell_type": "code",
      "source": [
        "# Graficar la precisión del modelo durante el entrenamiento\n",
        "plt.plot(history.history['accuracy'])\n",
        "plt.plot(history.history['val_accuracy'])\n",
        "plt.title('Precisión del modelo')\n",
        "plt.ylabel('Precisión')\n",
        "plt.xlabel('Época')\n",
        "plt.legend(['Entrenamiento', 'Prueba'], loc='upper left')\n",
        "plt.show()"
      ],
      "metadata": {
        "colab": {
          "base_uri": "https://localhost:8080/",
          "height": 297
        },
        "outputId": "3cc944a6-47d3-439e-affd-d376c3b72093",
        "id": "5D3XdDZf66a5"
      },
      "execution_count": 19,
      "outputs": [
        {
          "output_type": "display_data",
          "data": {
            "text/plain": [
              "<Figure size 432x288 with 1 Axes>"
            ],
            "image/png": "[encoded data removed]"
          },
          "metadata": {
            "needs_background": "light"
          }
        }
      ]
    },
    {
      "cell_type": "code",
      "source": [
        "# Graficar la pérdida del modelo durante el entrenamiento\n",
        "plt.plot(history.history['loss'])\n",
        "plt.plot(history.history['val_loss'])\n",
        "plt.title('Pérdida del modelo')\n",
        "plt.ylabel('Pérdida')\n",
        "plt.xlabel('Época')\n",
        "plt.legend(['Entrenamiento', 'Prueba'], loc='upper left')\n",
        "plt.show()"
      ],
      "metadata": {
        "colab": {
          "base_uri": "https://localhost:8080/",
          "height": 297
        },
        "outputId": "0dad7fa8-e6a7-4abe-c3e1-816dc841c7f6",
        "id": "PxyuvjRu66a5"
      },
      "execution_count": 20,
      "outputs": [
        {
          "output_type": "display_data",
          "data": {
            "text/plain": [
              "<Figure size 432x288 with 1 Axes>"
            ],
            "image/png": "[encoded data removed]"
          },
          "metadata": {
            "needs_background": "light"
          }
        }
      ]
    },
    {
      "cell_type": "markdown",
      "source": [
        "En este ejemplo, utilizamos una capa Conv2D y una capa MaxPooling2D para extraer características de las imágenes en el conjunto de datos MNIST. También utilizamos una capa Flatten para aplanar las características extraídas en un vector y una capa Dropout para regularizar el modelo y reducir el sobreajuste."
      ],
      "metadata": {
        "id": "bmSCop4I4Q6B"
      }
    },
    {
      "cell_type": "markdown",
      "source": [
        "## Funciones de activación avanzadas\n",
        "Las funciones de activación son esenciales en las redes neuronales porque determinan la no linealidad de la red. Algunas de las funciones de activación más utilizadas son:\n",
        "\n",
        "* ReLU: Esta función de activación es la más utilizada en la actualidad debido a su simplicidad y eficacia. ReLU es una función no lineal que mapea cualquier entrada negativa a cero y cualquier entrada positiva a su valor de entrada.\n",
        "\n",
        "* LeakyReLU: Esta función de activación es similar a ReLU, pero en lugar de mapear las entradas negativas a cero, mapea las entradas negativas a un valor pequeño y positivo.\n",
        "\n",
        "* ELU: Esta función de activación es similar a ReLU, pero en lugar de mapear las entradas negativas a cero, mapea las entradas negativas a un valor exponencialmente decreciente."
      ],
      "metadata": {
        "id": "2mZAVyfA3xUP"
      }
    },
    {
      "cell_type": "code",
      "source": [
        "from keras.layers import LeakyReLU\n",
        "\n",
        "model = Sequential()\n",
        "model.add(Flatten(input_shape=(28, 28))) # Aplanar las imágenes\n",
        "model.add(Dense(64))\n",
        "model.add(LeakyReLU())\n",
        "model.add(Dense(10, activation='softmax'))"
      ],
      "metadata": {
        "id": "IoVyTVDs4TU0"
      },
      "execution_count": 21,
      "outputs": []
    },
    {
      "cell_type": "code",
      "source": [
        "# Compilar el modelo\n",
        "model.compile(loss='categorical_crossentropy', optimizer='adam', metrics=['accuracy'])"
      ],
      "metadata": {
        "id": "plWXsqfh7QsW"
      },
      "execution_count": 22,
      "outputs": []
    },
    {
      "cell_type": "code",
      "source": [
        "# Entrenar el modelo\n",
        "history = model.fit(X_train, y_train, validation_data=(X_test, y_test), epochs=20, batch_size=128, use_multiprocessing=True)"
      ],
      "metadata": {
        "colab": {
          "base_uri": "https://localhost:8080/"
        },
        "outputId": "a7a18314-4904-4747-f1fd-ad6a06b8fd39",
        "id": "IuqKbUd168oD"
      },
      "execution_count": 23,
      "outputs": [
        {
          "output_type": "stream",
          "name": "stdout",
          "text": [
            "Epoch 1/20\n",
            "469/469 [==============================] - 3s 5ms/step - loss: 0.4263 - accuracy: 0.8806 - val_loss: 0.2640 - val_accuracy: 0.9248\n",
            "Epoch 2/20\n",
            "469/469 [==============================] - 2s 4ms/step - loss: 0.2422 - accuracy: 0.9311 - val_loss: 0.2150 - val_accuracy: 0.9371\n",
            "Epoch 3/20\n",
            "469/469 [==============================] - 2s 4ms/step - loss: 0.1967 - accuracy: 0.9442 - val_loss: 0.1835 - val_accuracy: 0.9459\n",
            "Epoch 4/20\n",
            "469/469 [==============================] - 2s 5ms/step - loss: 0.1666 - accuracy: 0.9518 - val_loss: 0.1623 - val_accuracy: 0.9527\n",
            "Epoch 5/20\n",
            "469/469 [==============================] - 2s 5ms/step - loss: 0.1462 - accuracy: 0.9577 - val_loss: 0.1444 - val_accuracy: 0.9569\n",
            "Epoch 6/20\n",
            "469/469 [==============================] - 3s 6ms/step - loss: 0.1289 - accuracy: 0.9625 - val_loss: 0.1340 - val_accuracy: 0.9594\n",
            "Epoch 7/20\n",
            "469/469 [==============================] - 2s 5ms/step - loss: 0.1151 - accuracy: 0.9662 - val_loss: 0.1217 - val_accuracy: 0.9633\n",
            "Epoch 8/20\n",
            "469/469 [==============================] - 2s 4ms/step - loss: 0.1045 - accuracy: 0.9692 - val_loss: 0.1141 - val_accuracy: 0.9653\n",
            "Epoch 9/20\n",
            "469/469 [==============================] - 2s 4ms/step - loss: 0.0952 - accuracy: 0.9721 - val_loss: 0.1159 - val_accuracy: 0.9641\n",
            "Epoch 10/20\n",
            "469/469 [==============================] - 2s 5ms/step - loss: 0.0864 - accuracy: 0.9749 - val_loss: 0.1080 - val_accuracy: 0.9674\n",
            "Epoch 11/20\n",
            "469/469 [==============================] - 2s 5ms/step - loss: 0.0798 - accuracy: 0.9766 - val_loss: 0.1044 - val_accuracy: 0.9687\n",
            "Epoch 12/20\n",
            "469/469 [==============================] - 3s 6ms/step - loss: 0.0743 - accuracy: 0.9783 - val_loss: 0.1099 - val_accuracy: 0.9664\n",
            "Epoch 13/20\n",
            "469/469 [==============================] - 2s 4ms/step - loss: 0.0682 - accuracy: 0.9800 - val_loss: 0.0971 - val_accuracy: 0.9715\n",
            "Epoch 14/20\n",
            "469/469 [==============================] - 2s 4ms/step - loss: 0.0644 - accuracy: 0.9812 - val_loss: 0.0971 - val_accuracy: 0.9701\n",
            "Epoch 15/20\n",
            "469/469 [==============================] - 2s 4ms/step - loss: 0.0593 - accuracy: 0.9828 - val_loss: 0.0973 - val_accuracy: 0.9711\n",
            "Epoch 16/20\n",
            "469/469 [==============================] - 2s 5ms/step - loss: 0.0550 - accuracy: 0.9842 - val_loss: 0.0933 - val_accuracy: 0.9711\n",
            "Epoch 17/20\n",
            "469/469 [==============================] - 2s 5ms/step - loss: 0.0521 - accuracy: 0.9849 - val_loss: 0.0915 - val_accuracy: 0.9719\n",
            "Epoch 18/20\n",
            "469/469 [==============================] - 3s 6ms/step - loss: 0.0487 - accuracy: 0.9855 - val_loss: 0.0886 - val_accuracy: 0.9738\n",
            "Epoch 19/20\n",
            "469/469 [==============================] - 2s 4ms/step - loss: 0.0459 - accuracy: 0.9865 - val_loss: 0.0920 - val_accuracy: 0.9740\n",
            "Epoch 20/20\n",
            "469/469 [==============================] - 2s 4ms/step - loss: 0.0428 - accuracy: 0.9872 - val_loss: 0.0991 - val_accuracy: 0.9708\n"
          ]
        }
      ]
    },
    {
      "cell_type": "code",
      "source": [
        "# Evaluar el rendimiento del modelo en los datos de prueba\n",
        "loss, accuracy = model.evaluate(X_test, y_test)\n",
        "print(f\"Pérdida del modelo en los datos de prueba: {loss:.4f}\")\n",
        "print(f\"Precisión del modelo en los datos de prueba: {accuracy:.4f}\")"
      ],
      "metadata": {
        "id": "Ibiisncq68oE",
        "colab": {
          "base_uri": "https://localhost:8080/"
        },
        "outputId": "70f11f3c-9d5f-4ded-90f8-bbd4b18b5d17"
      },
      "execution_count": 24,
      "outputs": [
        {
          "output_type": "stream",
          "name": "stdout",
          "text": [
            "313/313 [==============================] - 1s 2ms/step - loss: 0.0991 - accuracy: 0.9708\n",
            "Pérdida del modelo en los datos de prueba: 0.0991\n",
            "Precisión del modelo en los datos de prueba: 0.9708\n"
          ]
        }
      ]
    },
    {
      "cell_type": "code",
      "source": [
        "# Graficar la precisión del modelo durante el entrenamiento\n",
        "plt.plot(history.history['accuracy'])\n",
        "plt.plot(history.history['val_accuracy'])\n",
        "plt.title('Precisión del modelo')\n",
        "plt.ylabel('Precisión')\n",
        "plt.xlabel('Época')\n",
        "plt.legend(['Entrenamiento', 'Prueba'], loc='upper left')\n",
        "plt.show()"
      ],
      "metadata": {
        "id": "y5hR6ILv68oE",
        "colab": {
          "base_uri": "https://localhost:8080/",
          "height": 297
        },
        "outputId": "3ad69a51-d279-49c0-b525-b76755400095"
      },
      "execution_count": 25,
      "outputs": [
        {
          "output_type": "display_data",
          "data": {
            "text/plain": [
              "<Figure size 432x288 with 1 Axes>"
            ],
            "image/png": "[encoded data removed]"
          },
          "metadata": {
            "needs_background": "light"
          }
        }
      ]
    },
    {
      "cell_type": "code",
      "source": [
        "# Graficar la pérdida del modelo durante el entrenamiento\n",
        "plt.plot(history.history['loss'])\n",
        "plt.plot(history.history['val_loss'])\n",
        "plt.title('Pérdida del modelo')\n",
        "plt.ylabel('Pérdida')\n",
        "plt.xlabel('Época')\n",
        "plt.legend(['Entrenamiento', 'Prueba'], loc='upper left')\n",
        "plt.show()"
      ],
      "metadata": {
        "id": "xRZ5LJAY68oE",
        "colab": {
          "base_uri": "https://localhost:8080/",
          "height": 297
        },
        "outputId": "b2ba8194-070f-4e23-ccfd-f7cf5f1e5e61"
      },
      "execution_count": 26,
      "outputs": [
        {
          "output_type": "display_data",
          "data": {
            "text/plain": [
              "<Figure size 432x288 with 1 Axes>"
            ],
            "image/png": "[encoded data removed]"
          },
          "metadata": {
            "needs_background": "light"
          }
        }
      ]
    },
    {
      "cell_type": "markdown",
      "source": [
        "En este ejemplo, utilizamos una función de activación PReLU en lugar de la función de activación ReLU estándar. La función PReLU se ha demostrado que puede mejorar el rendimiento de la red neuronal en algunos conjuntos de datos."
      ],
      "metadata": {
        "id": "7xLSYAN_4VNx"
      }
    },
    {
      "cell_type": "markdown",
      "source": [
        "## Optimizadores avanzados\n",
        "Los optimizadores son algoritmos que se utilizan para ajustar los pesos de la red neuronal durante el entrenamiento. Algunos de los optimizadores más utilizados son:\n",
        "\n",
        "* RMSprop: Este optimizador utiliza una media móvil de los cuadrados de los gradientes para normalizar el gradiente.\n",
        "\n",
        "* Adam: Este optimizador utiliza una combinación de RMSprop y momentum para ajustar los pesos de la red neuronal. Es uno de los optimizadores más utilizados en la actualidad.\n",
        "\n",
        "* SGD: Este es el optimizador de descenso de gradiente estocástico estándar. Aunque es menos utilizado en la actualidad, todavía puede ser útil en algunos casos."
      ],
      "metadata": {
        "id": "Dre5bzdL31AX"
      }
    },
    {
      "cell_type": "code",
      "source": [
        "from keras.optimizers import Adam\n",
        "from keras.layers import Activation\n",
        "\n",
        "model = Sequential()\n",
        "model.add(Flatten(input_shape=(28, 28)))\n",
        "model.add(Activation('relu'))\n",
        "model.add(Dense(10, activation='softmax'))\n",
        "model.compile(loss='categorical_crossentropy', optimizer=Adam(lr=0.001), metrics=['accuracy'])"
      ],
      "metadata": {
        "id": "w4Vd1JrN4WxQ",
        "colab": {
          "base_uri": "https://localhost:8080/"
        },
        "outputId": "5a97a31c-9147-49f7-aedf-4e12784046aa"
      },
      "execution_count": 27,
      "outputs": [
        {
          "output_type": "stream",
          "name": "stderr",
          "text": [
            "/usr/local/lib/python3.8/dist-packages/keras/optimizers/optimizer_v2/adam.py:117: UserWarning: The `lr` argument is deprecated, use `learning_rate` instead.\n",
            "  super().__init__(name, **kwargs)\n"
          ]
        }
      ]
    },
    {
      "cell_type": "code",
      "source": [
        "# Compilar el modelo\n",
        "model.compile(loss='categorical_crossentropy', optimizer='adam', metrics=['accuracy'])"
      ],
      "metadata": {
        "id": "vcLlM_oj7R84"
      },
      "execution_count": 28,
      "outputs": []
    },
    {
      "cell_type": "code",
      "source": [
        "# Entrenar el modelo\n",
        "history = model.fit(X_train, y_train, validation_data=(X_test, y_test), epochs=20, batch_size=128, use_multiprocessing=True)"
      ],
      "metadata": {
        "id": "tdWfe2gE7ARd",
        "colab": {
          "base_uri": "https://localhost:8080/"
        },
        "outputId": "c6fcb1b2-c35e-4f3f-9072-a9627c4aac95"
      },
      "execution_count": 29,
      "outputs": [
        {
          "output_type": "stream",
          "name": "stdout",
          "text": [
            "Epoch 1/20\n",
            "469/469 [==============================] - 3s 5ms/step - loss: 0.6784 - accuracy: 0.8302 - val_loss: 0.3821 - val_accuracy: 0.9040\n",
            "Epoch 2/20\n",
            "469/469 [==============================] - 1s 3ms/step - loss: 0.3616 - accuracy: 0.9024 - val_loss: 0.3184 - val_accuracy: 0.9126\n",
            "Epoch 3/20\n",
            "469/469 [==============================] - 1s 3ms/step - loss: 0.3193 - accuracy: 0.9125 - val_loss: 0.2971 - val_accuracy: 0.9195\n",
            "Epoch 4/20\n",
            "469/469 [==============================] - 1s 3ms/step - loss: 0.2994 - accuracy: 0.9170 - val_loss: 0.2869 - val_accuracy: 0.9207\n",
            "Epoch 5/20\n",
            "469/469 [==============================] - 1s 3ms/step - loss: 0.2878 - accuracy: 0.9197 - val_loss: 0.2759 - val_accuracy: 0.9220\n",
            "Epoch 6/20\n",
            "469/469 [==============================] - 2s 4ms/step - loss: 0.2794 - accuracy: 0.9217 - val_loss: 0.2738 - val_accuracy: 0.9233\n",
            "Epoch 7/20\n",
            "469/469 [==============================] - 1s 3ms/step - loss: 0.2735 - accuracy: 0.9231 - val_loss: 0.2695 - val_accuracy: 0.9255\n",
            "Epoch 8/20\n",
            "469/469 [==============================] - 2s 4ms/step - loss: 0.2692 - accuracy: 0.9254 - val_loss: 0.2677 - val_accuracy: 0.9250\n",
            "Epoch 9/20\n",
            "469/469 [==============================] - 2s 5ms/step - loss: 0.2653 - accuracy: 0.9256 - val_loss: 0.2676 - val_accuracy: 0.9265\n",
            "Epoch 10/20\n",
            "469/469 [==============================] - 1s 3ms/step - loss: 0.2618 - accuracy: 0.9271 - val_loss: 0.2661 - val_accuracy: 0.9252\n",
            "Epoch 11/20\n",
            "469/469 [==============================] - 1s 3ms/step - loss: 0.2594 - accuracy: 0.9283 - val_loss: 0.2659 - val_accuracy: 0.9258\n",
            "Epoch 12/20\n",
            "469/469 [==============================] - 2s 4ms/step - loss: 0.2572 - accuracy: 0.9284 - val_loss: 0.2653 - val_accuracy: 0.9268\n",
            "Epoch 13/20\n",
            "469/469 [==============================] - 2s 3ms/step - loss: 0.2553 - accuracy: 0.9289 - val_loss: 0.2624 - val_accuracy: 0.9273\n",
            "Epoch 14/20\n",
            "469/469 [==============================] - 1s 3ms/step - loss: 0.2531 - accuracy: 0.9299 - val_loss: 0.2643 - val_accuracy: 0.9277\n",
            "Epoch 15/20\n",
            "469/469 [==============================] - 2s 4ms/step - loss: 0.2519 - accuracy: 0.9308 - val_loss: 0.2627 - val_accuracy: 0.9267\n",
            "Epoch 16/20\n",
            "469/469 [==============================] - 2s 4ms/step - loss: 0.2505 - accuracy: 0.9309 - val_loss: 0.2631 - val_accuracy: 0.9270\n",
            "Epoch 17/20\n",
            "469/469 [==============================] - 2s 4ms/step - loss: 0.2491 - accuracy: 0.9313 - val_loss: 0.2625 - val_accuracy: 0.9274\n",
            "Epoch 18/20\n",
            "469/469 [==============================] - 1s 3ms/step - loss: 0.2479 - accuracy: 0.9313 - val_loss: 0.2621 - val_accuracy: 0.9273\n",
            "Epoch 19/20\n",
            "469/469 [==============================] - 2s 3ms/step - loss: 0.2470 - accuracy: 0.9319 - val_loss: 0.2611 - val_accuracy: 0.9273\n",
            "Epoch 20/20\n",
            "469/469 [==============================] - 1s 3ms/step - loss: 0.2459 - accuracy: 0.9320 - val_loss: 0.2647 - val_accuracy: 0.9270\n"
          ]
        }
      ]
    },
    {
      "cell_type": "code",
      "source": [
        "# Evaluar el rendimiento del modelo en los datos de prueba\n",
        "loss, accuracy = model.evaluate(X_test, y_test)\n",
        "print(f\"Pérdida del modelo en los datos de prueba: {loss:.4f}\")\n",
        "print(f\"Precisión del modelo en los datos de prueba: {accuracy:.4f}\")"
      ],
      "metadata": {
        "id": "8ZKme7Az7ARf",
        "colab": {
          "base_uri": "https://localhost:8080/"
        },
        "outputId": "fab6e2cf-1965-4cdb-990f-13de23ae1e00"
      },
      "execution_count": 30,
      "outputs": [
        {
          "output_type": "stream",
          "name": "stdout",
          "text": [
            "313/313 [==============================] - 1s 2ms/step - loss: 0.2647 - accuracy: 0.9270\n",
            "Pérdida del modelo en los datos de prueba: 0.2647\n",
            "Precisión del modelo en los datos de prueba: 0.9270\n"
          ]
        }
      ]
    },
    {
      "cell_type": "code",
      "source": [
        "# Graficar la precisión del modelo durante el entrenamiento\n",
        "plt.plot(history.history['accuracy'])\n",
        "plt.plot(history.history['val_accuracy'])\n",
        "plt.title('Precisión del modelo')\n",
        "plt.ylabel('Precisión')\n",
        "plt.xlabel('Época')\n",
        "plt.legend(['Entrenamiento', 'Prueba'], loc='upper left')\n",
        "plt.show()"
      ],
      "metadata": {
        "id": "kbkhObhi7ARg",
        "colab": {
          "base_uri": "https://localhost:8080/",
          "height": 297
        },
        "outputId": "7d20489b-2914-4ce8-9812-d06da4041c5d"
      },
      "execution_count": 31,
      "outputs": [
        {
          "output_type": "display_data",
          "data": {
            "text/plain": [
              "<Figure size 432x288 with 1 Axes>"
            ],
            "image/png": "[encoded data removed]"
          },
          "metadata": {
            "needs_background": "light"
          }
        }
      ]
    },
    {
      "cell_type": "code",
      "source": [
        "# Graficar la pérdida del modelo durante el entrenamiento\n",
        "plt.plot(history.history['loss'])\n",
        "plt.plot(history.history['val_loss'])\n",
        "plt.title('Pérdida del modelo')\n",
        "plt.ylabel('Pérdida')\n",
        "plt.xlabel('Época')\n",
        "plt.legend(['Entrenamiento', 'Prueba'], loc='upper left')\n",
        "plt.show()"
      ],
      "metadata": {
        "id": "tXD3Si_B7ARh",
        "colab": {
          "base_uri": "https://localhost:8080/",
          "height": 297
        },
        "outputId": "229395b5-f069-4d6e-f23b-6f66260c245e"
      },
      "execution_count": 32,
      "outputs": [
        {
          "output_type": "display_data",
          "data": {
            "text/plain": [
              "<Figure size 432x288 with 1 Axes>"
            ],
            "image/png": "[encoded data removed]"
          },
          "metadata": {
            "needs_background": "light"
          }
        }
      ]
    },
    {
      "cell_type": "markdown",
      "source": [
        "En este ejemplo, utilizamos el optimizador Adam en lugar del optimizador SGD estándar. El optimizador Adam se ha demostrado que converge más rápidamente que el SGD en muchos casos."
      ],
      "metadata": {
        "id": "1ImBi5JU4Yv8"
      }
    },
    {
      "cell_type": "markdown",
      "source": [
        "## Regularización avanzada\n",
        "La regularización se utiliza para evitar el sobreajuste de la red neuronal. Algunas de las técnicas de regularización más utilizadas son:\n",
        "\n",
        "* L1: Esta técnica de regularización agrega una penalización L1 a la función de pérdida. Esto hace que los pesos más pequeños sean más importantes y reduce la complejidad de la red.\n",
        "\n",
        "* L2: Esta técnica de regularización agrega una penalización L2 a la función de pérdida. Esto hace que los pesos más grandes sean más importantes y reduce la complejidad de la red.\n",
        "\n",
        "* Dropout: Como se mencionó anteriormente, el dropout es una técnica de regularización que desactiva aleatoriamente algunas de las neuronas durante el entrenamiento."
      ],
      "metadata": {
        "id": "9IEw-mh935jB"
      }
    },
    {
      "cell_type": "code",
      "source": [
        "from keras.regularizers import l2\n",
        "\n",
        "model = Sequential()\n",
        "model.add(Dense(64, kernel_regularizer=l2(0.01)))\n",
        "model.add(Activation('relu'))\n",
        "model.add(Flatten())\n",
        "model.add(Dense(10, activation='softmax'))"
      ],
      "metadata": {
        "id": "p_KeVAby4lV3"
      },
      "execution_count": 33,
      "outputs": []
    },
    {
      "cell_type": "code",
      "source": [
        "# Compilar el modelo\n",
        "model.compile(loss='categorical_crossentropy', optimizer='adam', metrics=['accuracy'])"
      ],
      "metadata": {
        "id": "uRfYhKkc7Slb"
      },
      "execution_count": 34,
      "outputs": []
    },
    {
      "cell_type": "code",
      "source": [
        "# Entrenar el modelo\n",
        "history = model.fit(X_train, y_train, validation_data=(X_test, y_test), epochs=20, batch_size=128, use_multiprocessing=True)"
      ],
      "metadata": {
        "id": "Vxoc9dLp7Bd3",
        "colab": {
          "base_uri": "https://localhost:8080/"
        },
        "outputId": "85bd5e5a-3416-4815-84c6-e3c1b21b8140"
      },
      "execution_count": 35,
      "outputs": [
        {
          "output_type": "stream",
          "name": "stdout",
          "text": [
            "Epoch 1/20\n",
            "469/469 [==============================] - 4s 7ms/step - loss: 0.6593 - accuracy: 0.8741 - val_loss: 0.3832 - val_accuracy: 0.9186\n",
            "Epoch 2/20\n",
            "469/469 [==============================] - 3s 7ms/step - loss: 0.3555 - accuracy: 0.9232 - val_loss: 0.3150 - val_accuracy: 0.9313\n",
            "Epoch 3/20\n",
            "469/469 [==============================] - 4s 9ms/step - loss: 0.3038 - accuracy: 0.9327 - val_loss: 0.2783 - val_accuracy: 0.9404\n",
            "Epoch 4/20\n",
            "469/469 [==============================] - 6s 13ms/step - loss: 0.2732 - accuracy: 0.9396 - val_loss: 0.2550 - val_accuracy: 0.9453\n",
            "Epoch 5/20\n",
            "469/469 [==============================] - 7s 14ms/step - loss: 0.2538 - accuracy: 0.9438 - val_loss: 0.2360 - val_accuracy: 0.9477\n",
            "Epoch 6/20\n",
            "469/469 [==============================] - 7s 16ms/step - loss: 0.2390 - accuracy: 0.9471 - val_loss: 0.2265 - val_accuracy: 0.9501\n",
            "Epoch 7/20\n",
            "469/469 [==============================] - 4s 8ms/step - loss: 0.2269 - accuracy: 0.9494 - val_loss: 0.2184 - val_accuracy: 0.9508\n",
            "Epoch 8/20\n",
            "469/469 [==============================] - 4s 8ms/step - loss: 0.2172 - accuracy: 0.9512 - val_loss: 0.2083 - val_accuracy: 0.9531\n",
            "Epoch 9/20\n",
            "469/469 [==============================] - 3s 7ms/step - loss: 0.2087 - accuracy: 0.9535 - val_loss: 0.2032 - val_accuracy: 0.9518\n",
            "Epoch 10/20\n",
            "469/469 [==============================] - 3s 7ms/step - loss: 0.2029 - accuracy: 0.9543 - val_loss: 0.1978 - val_accuracy: 0.9550\n",
            "Epoch 11/20\n",
            "469/469 [==============================] - 5s 10ms/step - loss: 0.1973 - accuracy: 0.9555 - val_loss: 0.1914 - val_accuracy: 0.9564\n",
            "Epoch 12/20\n",
            "469/469 [==============================] - 3s 7ms/step - loss: 0.1917 - accuracy: 0.9569 - val_loss: 0.1847 - val_accuracy: 0.9573\n",
            "Epoch 13/20\n",
            "469/469 [==============================] - 3s 7ms/step - loss: 0.1877 - accuracy: 0.9571 - val_loss: 0.1825 - val_accuracy: 0.9571\n",
            "Epoch 14/20\n",
            "469/469 [==============================] - 3s 7ms/step - loss: 0.1830 - accuracy: 0.9582 - val_loss: 0.1798 - val_accuracy: 0.9584\n",
            "Epoch 15/20\n",
            "469/469 [==============================] - 4s 9ms/step - loss: 0.1792 - accuracy: 0.9592 - val_loss: 0.1810 - val_accuracy: 0.9565\n",
            "Epoch 16/20\n",
            "469/469 [==============================] - 3s 7ms/step - loss: 0.1763 - accuracy: 0.9595 - val_loss: 0.1757 - val_accuracy: 0.9594\n",
            "Epoch 17/20\n",
            "469/469 [==============================] - 3s 6ms/step - loss: 0.1729 - accuracy: 0.9604 - val_loss: 0.1722 - val_accuracy: 0.9589\n",
            "Epoch 18/20\n",
            "469/469 [==============================] - 3s 7ms/step - loss: 0.1707 - accuracy: 0.9607 - val_loss: 0.1730 - val_accuracy: 0.9593\n",
            "Epoch 19/20\n",
            "469/469 [==============================] - 4s 9ms/step - loss: 0.1677 - accuracy: 0.9619 - val_loss: 0.1696 - val_accuracy: 0.9591\n",
            "Epoch 20/20\n",
            "469/469 [==============================] - 3s 7ms/step - loss: 0.1659 - accuracy: 0.9620 - val_loss: 0.1667 - val_accuracy: 0.9613\n"
          ]
        }
      ]
    },
    {
      "cell_type": "code",
      "source": [
        "# Evaluar el rendimiento del modelo en los datos de prueba\n",
        "loss, accuracy = model.evaluate(X_test, y_test)\n",
        "print(f\"Pérdida del modelo en los datos de prueba: {loss:.4f}\")\n",
        "print(f\"Precisión del modelo en los datos de prueba: {accuracy:.4f}\")"
      ],
      "metadata": {
        "id": "4Ow_wYCb7Bd3",
        "colab": {
          "base_uri": "https://localhost:8080/"
        },
        "outputId": "56ff7361-1b57-4ef0-a3c1-7d2e7e95261c"
      },
      "execution_count": 36,
      "outputs": [
        {
          "output_type": "stream",
          "name": "stdout",
          "text": [
            "313/313 [==============================] - 1s 2ms/step - loss: 0.1667 - accuracy: 0.9613\n",
            "Pérdida del modelo en los datos de prueba: 0.1667\n",
            "Precisión del modelo en los datos de prueba: 0.9613\n"
          ]
        }
      ]
    },
    {
      "cell_type": "code",
      "source": [
        "# Graficar la precisión del modelo durante el entrenamiento\n",
        "plt.plot(history.history['accuracy'])\n",
        "plt.plot(history.history['val_accuracy'])\n",
        "plt.title('Precisión del modelo')\n",
        "plt.ylabel('Precisión')\n",
        "plt.xlabel('Época')\n",
        "plt.legend(['Entrenamiento', 'Prueba'], loc='upper left')\n",
        "plt.show()"
      ],
      "metadata": {
        "id": "v8TFVvLG7Bd4",
        "colab": {
          "base_uri": "https://localhost:8080/",
          "height": 297
        },
        "outputId": "c6960960-b01d-4366-936f-1a329babc421"
      },
      "execution_count": 37,
      "outputs": [
        {
          "output_type": "display_data",
          "data": {
            "text/plain": [
              "<Figure size 432x288 with 1 Axes>"
            ],
            "image/png": "[encoded data removed]"
          },
          "metadata": {
            "needs_background": "light"
          }
        }
      ]
    },
    {
      "cell_type": "code",
      "source": [
        "# Graficar la pérdida del modelo durante el entrenamiento\n",
        "plt.plot(history.history['loss'])\n",
        "plt.plot(history.history['val_loss'])\n",
        "plt.title('Pérdida del modelo')\n",
        "plt.ylabel('Pérdida')\n",
        "plt.xlabel('Época')\n",
        "plt.legend(['Entrenamiento', 'Prueba'], loc='upper left')\n",
        "plt.show()"
      ],
      "metadata": {
        "id": "AvN_J75m7Bd4",
        "colab": {
          "base_uri": "https://localhost:8080/",
          "height": 297
        },
        "outputId": "a1d288a2-6146-423b-bad9-9bd975f33fe9"
      },
      "execution_count": 38,
      "outputs": [
        {
          "output_type": "display_data",
          "data": {
            "text/plain": [
              "<Figure size 432x288 with 1 Axes>"
            ],
            "image/png": "[encoded data removed]"
          },
          "metadata": {
            "needs_background": "light"
          }
        }
      ]
    },
    {
      "cell_type": "markdown",
      "source": [
        "En este ejemplo, utilizamos una regularización L2 en la capa oculta de la red neuronal para reducir el sobreajuste. La regularización L2 agrega una penalización L2 a la función de pérdida."
      ],
      "metadata": {
        "id": "tir18dO74nEw"
      }
    },
    {
      "cell_type": "markdown",
      "source": [
        "## Early stopping para evitar el sobreajuste\n",
        "El sobreajuste es un problema común en el entrenamiento de redes neuronales, en el cual el modelo se ajusta demasiado bien a los datos de entrenamiento y no generaliza bien a datos nuevos. Una forma de evitar este problema es utilizar early stopping, que detiene el entrenamiento del modelo cuando el error en los datos de validación comienza a aumentar.\n",
        "\n",
        "Para implementar early stopping en Keras, podemos utilizar la clase EarlyStopping del módulo keras.callbacks. Esta clase tiene varios parámetros que podemos ajustar, como el número de épocas para esperar antes de detener el entrenamiento, el monitor para verificar el error en los datos de validación, el modo de comparación (por ejemplo, \"min\" para minimizar el error o \"max\" para maximizar la precisión), entre otros."
      ],
      "metadata": {
        "id": "2r0VR0a5CFar"
      }
    },
    {
      "cell_type": "code",
      "source": [
        "from keras.callbacks import EarlyStopping\n",
        "\n",
        "# Crear un modelo de red neuronal\n",
        "model = Sequential()\n",
        "\n",
        "# Agregar una capa de entrada que aplane la imagen en un vector de una sola dimensión\n",
        "model.add(Flatten(input_shape=X_train.shape[1:]))\n",
        "\n",
        "# Agregar dos capas ocultas con la función de activación ReLU y la capa de abandono\n",
        "model.add(Dense(128, activation='relu'))\n",
        "model.add(Dropout(0.5))\n",
        "model.add(Dense(64, activation='relu'))\n",
        "model.add(Dropout(0.5))\n",
        "\n",
        "# Agregar una capa de salida con la función de activación softmax\n",
        "model.add(Dense(10, activation='softmax'))\n",
        "\n",
        "# Compilar el modelo\n",
        "model.compile(loss='categorical_crossentropy', optimizer='adam', metrics=['accuracy'])\n",
        "\n",
        "# definir early stopping\n",
        "early_stop = EarlyStopping(monitor='val_loss', patience=5, mode='min')\n",
        "\n",
        "# entrenar el modelo con early stopping\n",
        "history = model.fit(X_train, y_train, validation_data=(X_test, y_test), epochs=20, batch_size=128, callbacks=[early_stop])\n"
      ],
      "metadata": {
        "colab": {
          "base_uri": "https://localhost:8080/"
        },
        "id": "hK2LV_3-CSBn",
        "outputId": "991c5701-9724-482e-e400-42e9dc062fef"
      },
      "execution_count": 39,
      "outputs": [
        {
          "output_type": "stream",
          "name": "stdout",
          "text": [
            "Epoch 1/20\n",
            "469/469 [==============================] - 5s 10ms/step - loss: 0.7388 - accuracy: 0.7665 - val_loss: 0.2301 - val_accuracy: 0.9328\n",
            "Epoch 2/20\n",
            "469/469 [==============================] - 4s 8ms/step - loss: 0.3594 - accuracy: 0.8975 - val_loss: 0.1714 - val_accuracy: 0.9512\n",
            "Epoch 3/20\n",
            "469/469 [==============================] - 3s 7ms/step - loss: 0.2907 - accuracy: 0.9180 - val_loss: 0.1455 - val_accuracy: 0.9566\n",
            "Epoch 4/20\n",
            "469/469 [==============================] - 4s 9ms/step - loss: 0.2568 - accuracy: 0.9283 - val_loss: 0.1418 - val_accuracy: 0.9596\n",
            "Epoch 5/20\n",
            "469/469 [==============================] - 4s 8ms/step - loss: 0.2309 - accuracy: 0.9363 - val_loss: 0.1221 - val_accuracy: 0.9646\n",
            "Epoch 6/20\n",
            "469/469 [==============================] - 3s 7ms/step - loss: 0.2132 - accuracy: 0.9406 - val_loss: 0.1174 - val_accuracy: 0.9657\n",
            "Epoch 7/20\n",
            "469/469 [==============================] - 3s 7ms/step - loss: 0.2018 - accuracy: 0.9439 - val_loss: 0.1120 - val_accuracy: 0.9679\n",
            "Epoch 8/20\n",
            "469/469 [==============================] - 4s 8ms/step - loss: 0.1937 - accuracy: 0.9455 - val_loss: 0.1076 - val_accuracy: 0.9688\n",
            "Epoch 9/20\n",
            "469/469 [==============================] - 3s 7ms/step - loss: 0.1832 - accuracy: 0.9485 - val_loss: 0.1084 - val_accuracy: 0.9691\n",
            "Epoch 10/20\n",
            "469/469 [==============================] - 3s 7ms/step - loss: 0.1748 - accuracy: 0.9505 - val_loss: 0.1010 - val_accuracy: 0.9725\n",
            "Epoch 11/20\n",
            "469/469 [==============================] - 3s 7ms/step - loss: 0.1688 - accuracy: 0.9530 - val_loss: 0.1048 - val_accuracy: 0.9691\n",
            "Epoch 12/20\n",
            "469/469 [==============================] - 4s 9ms/step - loss: 0.1657 - accuracy: 0.9531 - val_loss: 0.1001 - val_accuracy: 0.9719\n",
            "Epoch 13/20\n",
            "469/469 [==============================] - 3s 7ms/step - loss: 0.1584 - accuracy: 0.9539 - val_loss: 0.0942 - val_accuracy: 0.9736\n",
            "Epoch 14/20\n",
            "469/469 [==============================] - 3s 6ms/step - loss: 0.1530 - accuracy: 0.9570 - val_loss: 0.0939 - val_accuracy: 0.9730\n",
            "Epoch 15/20\n",
            "469/469 [==============================] - 3s 7ms/step - loss: 0.1542 - accuracy: 0.9564 - val_loss: 0.0955 - val_accuracy: 0.9730\n",
            "Epoch 16/20\n",
            "469/469 [==============================] - 4s 9ms/step - loss: 0.1484 - accuracy: 0.9586 - val_loss: 0.0946 - val_accuracy: 0.9738\n",
            "Epoch 17/20\n",
            "469/469 [==============================] - 3s 7ms/step - loss: 0.1439 - accuracy: 0.9587 - val_loss: 0.0963 - val_accuracy: 0.9729\n",
            "Epoch 18/20\n",
            "469/469 [==============================] - 3s 7ms/step - loss: 0.1407 - accuracy: 0.9592 - val_loss: 0.0923 - val_accuracy: 0.9751\n",
            "Epoch 19/20\n",
            "469/469 [==============================] - 3s 7ms/step - loss: 0.1377 - accuracy: 0.9602 - val_loss: 0.1022 - val_accuracy: 0.9723\n",
            "Epoch 20/20\n",
            "469/469 [==============================] - 4s 9ms/step - loss: 0.1372 - accuracy: 0.9604 - val_loss: 0.0932 - val_accuracy: 0.9746\n"
          ]
        }
      ]
    },
    {
      "cell_type": "markdown",
      "source": [
        "En este ejemplo, estamos deteniendo el entrenamiento cuando el error en los datos de validación (monitor='val_loss') no mejora después de 5 épocas (patience=5). Estamos utilizando el modo \"min\" para minimizar el error en los datos de validación."
      ],
      "metadata": {
        "id": "9577z-p9ClB3"
      }
    },
    {
      "cell_type": "code",
      "source": [
        "# Evaluar el rendimiento del modelo en los datos de prueba\n",
        "loss, accuracy = model.evaluate(X_test, y_test)\n",
        "print(f\"Pérdida del modelo en los datos de prueba: {loss:.4f}\")\n",
        "print(f\"Precisión del modelo en los datos de prueba: {accuracy:.4f}\")"
      ],
      "metadata": {
        "colab": {
          "base_uri": "https://localhost:8080/"
        },
        "id": "gdokOhU_GRGl",
        "outputId": "b5ba99d8-4281-4474-b9db-5b12dbbb2f6a"
      },
      "execution_count": 40,
      "outputs": [
        {
          "output_type": "stream",
          "name": "stdout",
          "text": [
            "313/313 [==============================] - 1s 2ms/step - loss: 0.0932 - accuracy: 0.9746\n",
            "Pérdida del modelo en los datos de prueba: 0.0932\n",
            "Precisión del modelo en los datos de prueba: 0.9746\n"
          ]
        }
      ]
    },
    {
      "cell_type": "code",
      "source": [
        "# Graficar la precisión del modelo durante el entrenamiento\n",
        "plt.plot(history.history['accuracy'])\n",
        "plt.plot(history.history['val_accuracy'])\n",
        "plt.title('Precisión del modelo')\n",
        "plt.ylabel('Precisión')\n",
        "plt.xlabel('Época')\n",
        "plt.legend(['Entrenamiento', 'Prueba'], loc='upper left')\n",
        "plt.show()"
      ],
      "metadata": {
        "colab": {
          "base_uri": "https://localhost:8080/",
          "height": 297
        },
        "id": "uG3W7duJGRGs",
        "outputId": "23e2d68b-a1c8-45ac-f6fd-8eaebcf8f6ff"
      },
      "execution_count": 41,
      "outputs": [
        {
          "output_type": "display_data",
          "data": {
            "text/plain": [
              "<Figure size 432x288 with 1 Axes>"
            ],
            "image/png": "[encoded data removed]"
          },
          "metadata": {
            "needs_background": "light"
          }
        }
      ]
    },
    {
      "cell_type": "code",
      "source": [
        "# Graficar la pérdida del modelo durante el entrenamiento\n",
        "plt.plot(history.history['loss'])\n",
        "plt.plot(history.history['val_loss'])\n",
        "plt.title('Pérdida del modelo')\n",
        "plt.ylabel('Pérdida')\n",
        "plt.xlabel('Época')\n",
        "plt.legend(['Entrenamiento', 'Prueba'], loc='upper left')\n",
        "plt.show()"
      ],
      "metadata": {
        "colab": {
          "base_uri": "https://localhost:8080/",
          "height": 297
        },
        "id": "RCwzkGtYGRGs",
        "outputId": "56b3454c-0e76-42f2-c142-751c5baf5d83"
      },
      "execution_count": 42,
      "outputs": [
        {
          "output_type": "display_data",
          "data": {
            "text/plain": [
              "<Figure size 432x288 with 1 Axes>"
            ],
            "image/png": "[encoded data removed]"
          },
          "metadata": {
            "needs_background": "light"
          }
        }
      ]
    },
    {
      "cell_type": "markdown",
      "source": [
        "## Reducción del learning rate para mejorar el entrenamiento\n",
        "Otro problema común en el entrenamiento de redes neuronales es la inestabilidad del proceso de aprendizaje, donde la función de pérdida oscila mucho durante el entrenamiento. Una forma de abordar este problema es reducir gradualmente el learning rate durante el entrenamiento.\n",
        "\n",
        "En Keras, podemos utilizar la clase ReduceLROnPlateau del módulo keras.callbacks para reducir el learning rate cuando la función de pérdida en los datos de validación no mejora después de un número determinado de épocas. Esta clase tiene varios parámetros que podemos ajustar, como el factor de reducción del learning rate, el número de épocas para esperar antes de reducir el learning rate, el monitor para verificar el error en los datos de validación, entre otros."
      ],
      "metadata": {
        "id": "AiJ1quaKCpGT"
      }
    },
    {
      "cell_type": "code",
      "source": [
        "from keras.callbacks import ReduceLROnPlateau\n",
        "\n",
        "# Crear un modelo de red neuronal\n",
        "model = Sequential()\n",
        "\n",
        "# Agregar una capa de entrada que aplane la imagen en un vector de una sola dimensión\n",
        "model.add(Flatten(input_shape=X_train.shape[1:]))\n",
        "\n",
        "# Agregar dos capas ocultas con la función de activación ReLU y la capa de abandono\n",
        "model.add(Dense(128, activation='relu'))\n",
        "model.add(Dropout(0.5))\n",
        "model.add(Dense(64, activation='relu'))\n",
        "model.add(Dropout(0.5))\n",
        "\n",
        "# Agregar una capa de salida con la función de activación softmax\n",
        "model.add(Dense(10, activation='softmax'))\n",
        "\n",
        "# Compilar el modelo\n",
        "model.compile(loss='categorical_crossentropy', optimizer='adam', metrics=['accuracy'])\n",
        "\n",
        "# definir reducción del learning rate\n",
        "reduce_lr = ReduceLROnPlateau(monitor='val_loss', factor=0.1, patience=5, mode='min', min_lr=0.0001, verbose=1)\n",
        "\n",
        "# entrenar el modelo con reducción del learning rate\n",
        "history = model.fit(X_train, y_train, validation_data=(X_test, y_test), epochs=20, batch_size=128, callbacks=[reduce_lr])\n"
      ],
      "metadata": {
        "colab": {
          "base_uri": "https://localhost:8080/"
        },
        "id": "2nmKSmfiCrhS",
        "outputId": "1cc4c1bb-857d-454f-94e0-faf3afcad39f"
      },
      "execution_count": 43,
      "outputs": [
        {
          "output_type": "stream",
          "name": "stdout",
          "text": [
            "Epoch 1/20\n",
            "469/469 [==============================] - 5s 8ms/step - loss: 0.7368 - accuracy: 0.7663 - val_loss: 0.2309 - val_accuracy: 0.9314 - lr: 0.0010\n",
            "Epoch 2/20\n",
            "469/469 [==============================] - 7s 16ms/step - loss: 0.3633 - accuracy: 0.8980 - val_loss: 0.1761 - val_accuracy: 0.9489 - lr: 0.0010\n",
            "Epoch 3/20\n",
            "469/469 [==============================] - 5s 10ms/step - loss: 0.2973 - accuracy: 0.9172 - val_loss: 0.1463 - val_accuracy: 0.9551 - lr: 0.0010\n",
            "Epoch 4/20\n",
            "469/469 [==============================] - 3s 7ms/step - loss: 0.2633 - accuracy: 0.9275 - val_loss: 0.1287 - val_accuracy: 0.9613 - lr: 0.0010\n",
            "Epoch 5/20\n",
            "469/469 [==============================] - 4s 9ms/step - loss: 0.2352 - accuracy: 0.9349 - val_loss: 0.1255 - val_accuracy: 0.9624 - lr: 0.0010\n",
            "Epoch 6/20\n",
            "469/469 [==============================] - 3s 7ms/step - loss: 0.2206 - accuracy: 0.9387 - val_loss: 0.1175 - val_accuracy: 0.9655 - lr: 0.0010\n",
            "Epoch 7/20\n",
            "469/469 [==============================] - 3s 7ms/step - loss: 0.2065 - accuracy: 0.9411 - val_loss: 0.1062 - val_accuracy: 0.9691 - lr: 0.0010\n",
            "Epoch 8/20\n",
            "469/469 [==============================] - 5s 10ms/step - loss: 0.1945 - accuracy: 0.9456 - val_loss: 0.1080 - val_accuracy: 0.9680 - lr: 0.0010\n",
            "Epoch 9/20\n",
            "469/469 [==============================] - 4s 9ms/step - loss: 0.1845 - accuracy: 0.9483 - val_loss: 0.1075 - val_accuracy: 0.9678 - lr: 0.0010\n",
            "Epoch 10/20\n",
            "469/469 [==============================] - 3s 7ms/step - loss: 0.1816 - accuracy: 0.9482 - val_loss: 0.1006 - val_accuracy: 0.9701 - lr: 0.0010\n",
            "Epoch 11/20\n",
            "469/469 [==============================] - 3s 7ms/step - loss: 0.1726 - accuracy: 0.9512 - val_loss: 0.0973 - val_accuracy: 0.9700 - lr: 0.0010\n",
            "Epoch 12/20\n",
            "469/469 [==============================] - 4s 9ms/step - loss: 0.1684 - accuracy: 0.9518 - val_loss: 0.0982 - val_accuracy: 0.9719 - lr: 0.0010\n",
            "Epoch 13/20\n",
            "469/469 [==============================] - 3s 7ms/step - loss: 0.1642 - accuracy: 0.9530 - val_loss: 0.0971 - val_accuracy: 0.9725 - lr: 0.0010\n",
            "Epoch 14/20\n",
            "469/469 [==============================] - 3s 7ms/step - loss: 0.1577 - accuracy: 0.9545 - val_loss: 0.1001 - val_accuracy: 0.9709 - lr: 0.0010\n",
            "Epoch 15/20\n",
            "469/469 [==============================] - 3s 7ms/step - loss: 0.1558 - accuracy: 0.9559 - val_loss: 0.0938 - val_accuracy: 0.9734 - lr: 0.0010\n",
            "Epoch 16/20\n",
            "469/469 [==============================] - 4s 9ms/step - loss: 0.1493 - accuracy: 0.9573 - val_loss: 0.0945 - val_accuracy: 0.9742 - lr: 0.0010\n",
            "Epoch 17/20\n",
            "469/469 [==============================] - 3s 6ms/step - loss: 0.1510 - accuracy: 0.9570 - val_loss: 0.0918 - val_accuracy: 0.9746 - lr: 0.0010\n",
            "Epoch 18/20\n",
            "469/469 [==============================] - 3s 7ms/step - loss: 0.1463 - accuracy: 0.9581 - val_loss: 0.0904 - val_accuracy: 0.9741 - lr: 0.0010\n",
            "Epoch 19/20\n",
            "469/469 [==============================] - 3s 6ms/step - loss: 0.1411 - accuracy: 0.9592 - val_loss: 0.0882 - val_accuracy: 0.9762 - lr: 0.0010\n",
            "Epoch 20/20\n",
            "469/469 [==============================] - 4s 9ms/step - loss: 0.1410 - accuracy: 0.9591 - val_loss: 0.0912 - val_accuracy: 0.9740 - lr: 0.0010\n"
          ]
        }
      ]
    },
    {
      "cell_type": "markdown",
      "source": [
        "En este ejemplo, estamos reduciendo el learning rate en un factor de 0.1 cuando el error en los datos de validación (monitor='val_loss') no mejora después de 5 épocas (patience=5). \n",
        "\n",
        "Estamos utilizando el modo \"min\" para minimizar el error en los datos de validación. \n",
        "\n",
        "Estamos estableciendo un límite mínimo para el learning rate de 0.0001 (min_lr=0.0001).\n",
        "\n",
        "Además, hemos establecido verbose=1 para imprimir un mensaje cuando se reduce el learning rate. Esto puede ser útil para monitorear el progreso del entrenamiento y asegurarse de que el modelo está mejorando correctamente.\n"
      ],
      "metadata": {
        "id": "zzr8forMDFHO"
      }
    },
    {
      "cell_type": "code",
      "source": [
        "# Evaluar el rendimiento del modelo en los datos de prueba\n",
        "loss, accuracy = model.evaluate(X_test, y_test)\n",
        "print(f\"Pérdida del modelo en los datos de prueba: {loss:.4f}\")\n",
        "print(f\"Precisión del modelo en los datos de prueba: {accuracy:.4f}\")"
      ],
      "metadata": {
        "colab": {
          "base_uri": "https://localhost:8080/"
        },
        "id": "8n5MrP4DGSbj",
        "outputId": "2957f30c-1c20-412d-c795-b18bc262b630"
      },
      "execution_count": 44,
      "outputs": [
        {
          "output_type": "stream",
          "name": "stdout",
          "text": [
            "313/313 [==============================] - 1s 2ms/step - loss: 0.0912 - accuracy: 0.9740\n",
            "Pérdida del modelo en los datos de prueba: 0.0912\n",
            "Precisión del modelo en los datos de prueba: 0.9740\n"
          ]
        }
      ]
    },
    {
      "cell_type": "code",
      "source": [
        "# Graficar la precisión del modelo durante el entrenamiento\n",
        "plt.plot(history.history['accuracy'])\n",
        "plt.plot(history.history['val_accuracy'])\n",
        "plt.title('Precisión del modelo')\n",
        "plt.ylabel('Precisión')\n",
        "plt.xlabel('Época')\n",
        "plt.legend(['Entrenamiento', 'Prueba'], loc='upper left')\n",
        "plt.show()"
      ],
      "metadata": {
        "colab": {
          "base_uri": "https://localhost:8080/",
          "height": 297
        },
        "id": "AiMNtwTGGSbk",
        "outputId": "1826b5a7-2a20-4a25-f609-cf396647a3d0"
      },
      "execution_count": 45,
      "outputs": [
        {
          "output_type": "display_data",
          "data": {
            "text/plain": [
              "<Figure size 432x288 with 1 Axes>"
            ],
            "image/png": "[encoded data removed]"
          },
          "metadata": {
            "needs_background": "light"
          }
        }
      ]
    },
    {
      "cell_type": "code",
      "source": [
        "# Graficar la pérdida del modelo durante el entrenamiento\n",
        "plt.plot(history.history['loss'])\n",
        "plt.plot(history.history['val_loss'])\n",
        "plt.title('Pérdida del modelo')\n",
        "plt.ylabel('Pérdida')\n",
        "plt.xlabel('Época')\n",
        "plt.legend(['Entrenamiento', 'Prueba'], loc='upper left')\n",
        "plt.show()"
      ],
      "metadata": {
        "colab": {
          "base_uri": "https://localhost:8080/",
          "height": 297
        },
        "id": "Wp9SpKN3GSbk",
        "outputId": "dc7b8132-9937-43d8-dd77-51c9903ae360"
      },
      "execution_count": 46,
      "outputs": [
        {
          "output_type": "display_data",
          "data": {
            "text/plain": [
              "<Figure size 432x288 with 1 Axes>"
            ],
            "image/png": "[encoded data removed]"
          },
          "metadata": {
            "needs_background": "light"
          }
        }
      ]
    },
    {
      "cell_type": "markdown",
      "source": [
        "# Early stopping y Reducción del learning rate para mejorar el entrenamiento\n",
        "Ambos procesos se pueden combinar en el módulo keras.callbacks para combinar ambas funcionalidades y tener un mayor control del sobreentrenamiento."
      ],
      "metadata": {
        "id": "8EOtU7VJD4AE"
      }
    },
    {
      "cell_type": "code",
      "source": [
        "from keras.callbacks import EarlyStopping\n",
        "from keras.callbacks import ReduceLROnPlateau\n",
        "from keras.optimizers import Adam\n",
        "# Crear un modelo de red neuronal\n",
        "model = Sequential()\n",
        "\n",
        "# Agregar una capa de entrada que aplane la imagen en un vector de una sola dimensión\n",
        "model.add(Flatten(input_shape=X_train.shape[1:]))\n",
        "\n",
        "# Agregar dos capas ocultas con la función de activación ReLU y la capa de abandono\n",
        "model.add(Dense(128, activation='relu'))\n",
        "model.add(Dropout(0.5))\n",
        "model.add(Dense(64, activation='relu'))\n",
        "model.add(Dropout(0.5))\n",
        "\n",
        "# Agregar una capa de salida con la función de activación softmax\n",
        "model.add(Dense(10, activation='softmax'))\n",
        "\n",
        "# Definir el optimizador\n",
        "optimizer = Adam(learning_rate=0.01)\n",
        "\n",
        "# Compilar el modelo\n",
        "model.compile(loss='categorical_crossentropy', optimizer=optimizer, metrics=['accuracy'])\n",
        "\n",
        "# Definir early stopping\n",
        "early_stop = EarlyStopping(monitor='val_loss', patience=12, mode='min')\n",
        "\n",
        "# Definir reducción del learning rate\n",
        "reduce_lr = ReduceLROnPlateau(monitor='val_loss', factor=0.1, patience=5, mode='min', min_lr=0.0001, verbose=1)\n",
        "\n",
        "# Entrenar el modelo con reducción del learning rate\n",
        "history = model.fit(X_train, y_train, validation_data=(X_test, y_test), epochs=100, batch_size=128, callbacks=[early_stop,reduce_lr], use_multiprocessing=True)"
      ],
      "metadata": {
        "colab": {
          "base_uri": "https://localhost:8080/"
        },
        "id": "_01DV_MUEX3G",
        "outputId": "0e9f9004-cfb4-42ae-cbed-a3f7f971e683"
      },
      "execution_count": 54,
      "outputs": [
        {
          "output_type": "stream",
          "name": "stdout",
          "text": [
            "Epoch 1/100\n",
            "469/469 [==============================] - 5s 7ms/step - loss: 0.5954 - accuracy: 0.8222 - val_loss: 0.2322 - val_accuracy: 0.9320 - lr: 0.0100\n",
            "Epoch 2/100\n",
            "469/469 [==============================] - 3s 6ms/step - loss: 0.4343 - accuracy: 0.8793 - val_loss: 0.1909 - val_accuracy: 0.9472 - lr: 0.0100\n",
            "Epoch 3/100\n",
            "469/469 [==============================] - 4s 8ms/step - loss: 0.4004 - accuracy: 0.8887 - val_loss: 0.1944 - val_accuracy: 0.9458 - lr: 0.0100\n",
            "Epoch 4/100\n",
            "469/469 [==============================] - 5s 10ms/step - loss: 0.3895 - accuracy: 0.8924 - val_loss: 0.2148 - val_accuracy: 0.9412 - lr: 0.0100\n",
            "Epoch 5/100\n",
            "469/469 [==============================] - 3s 7ms/step - loss: 0.3828 - accuracy: 0.8964 - val_loss: 0.1750 - val_accuracy: 0.9523 - lr: 0.0100\n",
            "Epoch 6/100\n",
            "469/469 [==============================] - 3s 7ms/step - loss: 0.3662 - accuracy: 0.9007 - val_loss: 0.1931 - val_accuracy: 0.9482 - lr: 0.0100\n",
            "Epoch 7/100\n",
            "469/469 [==============================] - 3s 7ms/step - loss: 0.3681 - accuracy: 0.9022 - val_loss: 0.1813 - val_accuracy: 0.9531 - lr: 0.0100\n",
            "Epoch 8/100\n",
            "469/469 [==============================] - 4s 8ms/step - loss: 0.3585 - accuracy: 0.9027 - val_loss: 0.1790 - val_accuracy: 0.9508 - lr: 0.0100\n",
            "Epoch 9/100\n",
            "469/469 [==============================] - 3s 6ms/step - loss: 0.3611 - accuracy: 0.9046 - val_loss: 0.1760 - val_accuracy: 0.9525 - lr: 0.0100\n",
            "Epoch 10/100\n",
            "465/469 [============================>.] - ETA: 0s - loss: 0.3538 - accuracy: 0.9055\n",
            "Epoch 10: ReduceLROnPlateau reducing learning rate to 0.0009999999776482583.\n",
            "469/469 [==============================] - 3s 6ms/step - loss: 0.3540 - accuracy: 0.9053 - val_loss: 0.1866 - val_accuracy: 0.9549 - lr: 0.0100\n",
            "Epoch 11/100\n",
            "469/469 [==============================] - 3s 6ms/step - loss: 0.2870 - accuracy: 0.9221 - val_loss: 0.1552 - val_accuracy: 0.9628 - lr: 1.0000e-03\n",
            "Epoch 12/100\n",
            "469/469 [==============================] - 4s 8ms/step - loss: 0.2584 - accuracy: 0.9298 - val_loss: 0.1542 - val_accuracy: 0.9633 - lr: 1.0000e-03\n",
            "Epoch 13/100\n",
            "469/469 [==============================] - 3s 6ms/step - loss: 0.2456 - accuracy: 0.9338 - val_loss: 0.1511 - val_accuracy: 0.9626 - lr: 1.0000e-03\n",
            "Epoch 14/100\n",
            "469/469 [==============================] - 3s 6ms/step - loss: 0.2364 - accuracy: 0.9349 - val_loss: 0.1499 - val_accuracy: 0.9636 - lr: 1.0000e-03\n",
            "Epoch 15/100\n",
            "469/469 [==============================] - 3s 6ms/step - loss: 0.2346 - accuracy: 0.9359 - val_loss: 0.1458 - val_accuracy: 0.9647 - lr: 1.0000e-03\n",
            "Epoch 16/100\n",
            "469/469 [==============================] - 4s 8ms/step - loss: 0.2249 - accuracy: 0.9388 - val_loss: 0.1438 - val_accuracy: 0.9635 - lr: 1.0000e-03\n",
            "Epoch 17/100\n",
            "469/469 [==============================] - 3s 7ms/step - loss: 0.2273 - accuracy: 0.9385 - val_loss: 0.1433 - val_accuracy: 0.9647 - lr: 1.0000e-03\n",
            "Epoch 18/100\n",
            "469/469 [==============================] - 3s 6ms/step - loss: 0.2207 - accuracy: 0.9403 - val_loss: 0.1432 - val_accuracy: 0.9647 - lr: 1.0000e-03\n",
            "Epoch 19/100\n",
            "469/469 [==============================] - 3s 6ms/step - loss: 0.2166 - accuracy: 0.9389 - val_loss: 0.1463 - val_accuracy: 0.9634 - lr: 1.0000e-03\n",
            "Epoch 20/100\n",
            "469/469 [==============================] - 4s 8ms/step - loss: 0.2125 - accuracy: 0.9407 - val_loss: 0.1438 - val_accuracy: 0.9647 - lr: 1.0000e-03\n",
            "Epoch 21/100\n",
            "469/469 [==============================] - 3s 6ms/step - loss: 0.2132 - accuracy: 0.9411 - val_loss: 0.1401 - val_accuracy: 0.9631 - lr: 1.0000e-03\n",
            "Epoch 22/100\n",
            "469/469 [==============================] - 3s 6ms/step - loss: 0.2099 - accuracy: 0.9430 - val_loss: 0.1423 - val_accuracy: 0.9642 - lr: 1.0000e-03\n",
            "Epoch 23/100\n",
            "469/469 [==============================] - 3s 6ms/step - loss: 0.2041 - accuracy: 0.9438 - val_loss: 0.1402 - val_accuracy: 0.9647 - lr: 1.0000e-03\n",
            "Epoch 24/100\n",
            "469/469 [==============================] - 4s 7ms/step - loss: 0.2059 - accuracy: 0.9432 - val_loss: 0.1378 - val_accuracy: 0.9651 - lr: 1.0000e-03\n",
            "Epoch 25/100\n",
            "469/469 [==============================] - 3s 6ms/step - loss: 0.2028 - accuracy: 0.9450 - val_loss: 0.1388 - val_accuracy: 0.9659 - lr: 1.0000e-03\n",
            "Epoch 26/100\n",
            "469/469 [==============================] - 3s 6ms/step - loss: 0.2003 - accuracy: 0.9456 - val_loss: 0.1370 - val_accuracy: 0.9648 - lr: 1.0000e-03\n",
            "Epoch 27/100\n",
            "469/469 [==============================] - 3s 6ms/step - loss: 0.1959 - accuracy: 0.9460 - val_loss: 0.1409 - val_accuracy: 0.9656 - lr: 1.0000e-03\n",
            "Epoch 28/100\n",
            "469/469 [==============================] - 3s 7ms/step - loss: 0.1982 - accuracy: 0.9456 - val_loss: 0.1404 - val_accuracy: 0.9656 - lr: 1.0000e-03\n",
            "Epoch 29/100\n",
            "469/469 [==============================] - 4s 8ms/step - loss: 0.1934 - accuracy: 0.9473 - val_loss: 0.1398 - val_accuracy: 0.9650 - lr: 1.0000e-03\n",
            "Epoch 30/100\n",
            "469/469 [==============================] - 3s 6ms/step - loss: 0.1900 - accuracy: 0.9465 - val_loss: 0.1399 - val_accuracy: 0.9653 - lr: 1.0000e-03\n",
            "Epoch 31/100\n",
            "463/469 [============================>.] - ETA: 0s - loss: 0.1930 - accuracy: 0.9466\n",
            "Epoch 31: ReduceLROnPlateau reducing learning rate to 0.0001.\n",
            "469/469 [==============================] - 3s 6ms/step - loss: 0.1930 - accuracy: 0.9467 - val_loss: 0.1392 - val_accuracy: 0.9654 - lr: 1.0000e-03\n",
            "Epoch 32/100\n",
            "469/469 [==============================] - 3s 6ms/step - loss: 0.1904 - accuracy: 0.9474 - val_loss: 0.1374 - val_accuracy: 0.9658 - lr: 1.0000e-04\n",
            "Epoch 33/100\n",
            "469/469 [==============================] - 4s 8ms/step - loss: 0.1829 - accuracy: 0.9487 - val_loss: 0.1372 - val_accuracy: 0.9668 - lr: 1.0000e-04\n",
            "Epoch 34/100\n",
            "469/469 [==============================] - 3s 6ms/step - loss: 0.1819 - accuracy: 0.9508 - val_loss: 0.1368 - val_accuracy: 0.9666 - lr: 1.0000e-04\n",
            "Epoch 35/100\n",
            "469/469 [==============================] - 3s 6ms/step - loss: 0.1874 - accuracy: 0.9478 - val_loss: 0.1374 - val_accuracy: 0.9667 - lr: 1.0000e-04\n",
            "Epoch 36/100\n",
            "469/469 [==============================] - 3s 6ms/step - loss: 0.1869 - accuracy: 0.9487 - val_loss: 0.1371 - val_accuracy: 0.9671 - lr: 1.0000e-04\n",
            "Epoch 37/100\n",
            "469/469 [==============================] - 4s 10ms/step - loss: 0.1817 - accuracy: 0.9500 - val_loss: 0.1374 - val_accuracy: 0.9669 - lr: 1.0000e-04\n",
            "Epoch 38/100\n",
            "469/469 [==============================] - 3s 6ms/step - loss: 0.1788 - accuracy: 0.9493 - val_loss: 0.1369 - val_accuracy: 0.9669 - lr: 1.0000e-04\n",
            "Epoch 39/100\n",
            "469/469 [==============================] - 3s 6ms/step - loss: 0.1813 - accuracy: 0.9500 - val_loss: 0.1371 - val_accuracy: 0.9666 - lr: 1.0000e-04\n",
            "Epoch 40/100\n",
            "469/469 [==============================] - 3s 6ms/step - loss: 0.1801 - accuracy: 0.9504 - val_loss: 0.1376 - val_accuracy: 0.9666 - lr: 1.0000e-04\n",
            "Epoch 41/100\n",
            "469/469 [==============================] - 4s 9ms/step - loss: 0.1798 - accuracy: 0.9503 - val_loss: 0.1376 - val_accuracy: 0.9663 - lr: 1.0000e-04\n",
            "Epoch 42/100\n",
            "469/469 [==============================] - 3s 6ms/step - loss: 0.1836 - accuracy: 0.9488 - val_loss: 0.1377 - val_accuracy: 0.9666 - lr: 1.0000e-04\n",
            "Epoch 43/100\n",
            "469/469 [==============================] - 3s 6ms/step - loss: 0.1808 - accuracy: 0.9492 - val_loss: 0.1373 - val_accuracy: 0.9665 - lr: 1.0000e-04\n",
            "Epoch 44/100\n",
            "469/469 [==============================] - 3s 6ms/step - loss: 0.1795 - accuracy: 0.9500 - val_loss: 0.1386 - val_accuracy: 0.9666 - lr: 1.0000e-04\n",
            "Epoch 45/100\n",
            "469/469 [==============================] - 4s 8ms/step - loss: 0.1790 - accuracy: 0.9496 - val_loss: 0.1380 - val_accuracy: 0.9664 - lr: 1.0000e-04\n",
            "Epoch 46/100\n",
            "469/469 [==============================] - 3s 6ms/step - loss: 0.1790 - accuracy: 0.9506 - val_loss: 0.1376 - val_accuracy: 0.9667 - lr: 1.0000e-04\n"
          ]
        }
      ]
    },
    {
      "cell_type": "code",
      "source": [
        "# Evaluar el rendimiento del modelo en los datos de prueba\n",
        "loss, accuracy = model.evaluate(X_test, y_test)\n",
        "print(f\"Pérdida del modelo en los datos de prueba: {loss:.4f}\")\n",
        "print(f\"Precisión del modelo en los datos de prueba: {accuracy:.4f}\")"
      ],
      "metadata": {
        "colab": {
          "base_uri": "https://localhost:8080/"
        },
        "id": "KJJ5Z888GTZ9",
        "outputId": "fb2ef52f-775e-41b0-8fdd-1e53e24eec10"
      },
      "execution_count": 55,
      "outputs": [
        {
          "output_type": "stream",
          "name": "stdout",
          "text": [
            "313/313 [==============================] - 1s 2ms/step - loss: 0.1376 - accuracy: 0.9667\n",
            "Pérdida del modelo en los datos de prueba: 0.1376\n",
            "Precisión del modelo en los datos de prueba: 0.9667\n"
          ]
        }
      ]
    },
    {
      "cell_type": "code",
      "source": [
        "# Graficar la precisión del modelo durante el entrenamiento\n",
        "plt.plot(history.history['accuracy'])\n",
        "plt.plot(history.history['val_accuracy'])\n",
        "plt.title('Precisión del modelo')\n",
        "plt.ylabel('Precisión')\n",
        "plt.xlabel('Época')\n",
        "plt.legend(['Entrenamiento', 'Prueba'], loc='upper left')\n",
        "plt.show()"
      ],
      "metadata": {
        "colab": {
          "base_uri": "https://localhost:8080/",
          "height": 297
        },
        "id": "-iqtdjsuGTZ-",
        "outputId": "26293b7a-9ab8-4525-cf49-f47eb7dc3525"
      },
      "execution_count": 56,
      "outputs": [
        {
          "output_type": "display_data",
          "data": {
            "text/plain": [
              "<Figure size 432x288 with 1 Axes>"
            ],
            "image/png": "[encoded data removed]"
          },
          "metadata": {
            "needs_background": "light"
          }
        }
      ]
    },
    {
      "cell_type": "code",
      "source": [
        "# Graficar la pérdida del modelo durante el entrenamiento\n",
        "plt.plot(history.history['loss'])\n",
        "plt.plot(history.history['val_loss'])\n",
        "plt.title('Pérdida del modelo')\n",
        "plt.ylabel('Pérdida')\n",
        "plt.xlabel('Época')\n",
        "plt.legend(['Entrenamiento', 'Prueba'], loc='upper left')\n",
        "plt.show()"
      ],
      "metadata": {
        "colab": {
          "base_uri": "https://localhost:8080/",
          "height": 297
        },
        "id": "FWrLKO8rGTZ-",
        "outputId": "0cd4d520-db4f-4f42-f548-dcb71f75027e"
      },
      "execution_count": 57,
      "outputs": [
        {
          "output_type": "display_data",
          "data": {
            "text/plain": [
              "<Figure size 432x288 with 1 Axes>"
            ],
            "image/png": "[encoded data removed]"
          },
          "metadata": {
            "needs_background": "light"
          }
        }
      ]
    }
  ]
}