{
  "nbformat": 4,
  "nbformat_minor": 0,
  "metadata": {
    "colab": {
      "provenance": [],
      "authorship_tag": "ABX9TyOlcRkrMDF3y8wpBM3c7Kvi",
      "include_colab_link": true
    },
    "kernelspec": {
      "name": "python3",
      "display_name": "Python 3"
    },
    "language_info": {
      "name": "python"
    }
  },
  "cells": [
    {
      "cell_type": "markdown",
      "metadata": {
        "id": "view-in-github",
        "colab_type": "text"
      },
      "source": [
        "<a href=\"https://colab.research.google.com/github/MattJCR/Introduccion-a-Redes-Neuronales/blob/master/Introducci%C3%B3n_a_Redes_Neuronales.ipynb\" target=\"_parent\"><img src=\"https://colab.research.google.com/assets/colab-badge.svg\" alt=\"Open In Colab\"/></a>"
      ]
    },
    {
      "cell_type": "markdown",
      "source": [
        "# Introducción a Redes Neuronales\n",
        "Las redes neuronales son una técnica de aprendizaje automático que se inspira en la forma en que funciona el cerebro humano. Una red neuronal está compuesta por capas de neuronas interconectadas que procesan la información a medida que se mueve a través de la red. Cada neurona en una capa se conecta con todas las neuronas en la capa siguiente y utiliza una función de activación para determinar si debe activarse o no.\n",
        "\n",
        "Las redes neuronales se pueden utilizar para una variedad de tareas de aprendizaje automático, como clasificación, regresión, procesamiento de lenguaje natural y visión por computadora. Keras es una biblioteca de aprendizaje profundo que proporciona una API fácil de usar para construir redes neuronales."
      ],
      "metadata": {
        "id": "VJTA5QWLv_yX"
      }
    },
    {
      "cell_type": "markdown",
      "source": [
        "# Configuración\n",
        "Antes de empezar, asegúrate de tener instalado Python y la biblioteca Keras en tu computadora. Para instalar Keras, puedes utilizar pip, el administrador de paquetes de Python:"
      ],
      "metadata": {
        "id": "Yu5lD-zmwBtp"
      }
    },
    {
      "cell_type": "code",
      "execution_count": 1,
      "metadata": {
        "colab": {
          "base_uri": "https://localhost:8080/"
        },
        "id": "8gWC_lGDv-7m",
        "outputId": "9c7b1e2d-8c56-4a46-f525-7cee19ee7562"
      },
      "outputs": [
        {
          "output_type": "stream",
          "name": "stdout",
          "text": [
            "Looking in indexes: https://pypi.org/simple, https://us-python.pkg.dev/colab-wheels/public/simple/\n",
            "Requirement already satisfied: keras in /usr/local/lib/python3.8/dist-packages (2.11.0)\n"
          ]
        }
      ],
      "source": [
        "pip install keras"
      ]
    },
    {
      "cell_type": "markdown",
      "source": [
        "También necesitarás otras bibliotecas como NumPy y Matplotlib para manipulación de datos y visualización de resultados. Puedes instalarlos con pip:"
      ],
      "metadata": {
        "id": "7nSZL3_5wIhv"
      }
    },
    {
      "cell_type": "code",
      "source": [
        "pip install numpy matplotlib"
      ],
      "metadata": {
        "colab": {
          "base_uri": "https://localhost:8080/"
        },
        "id": "zyq87WLSwJVD",
        "outputId": "78c984ca-3188-4f7f-d5b8-ef38be5e7bc0"
      },
      "execution_count": 2,
      "outputs": [
        {
          "output_type": "stream",
          "name": "stdout",
          "text": [
            "Looking in indexes: https://pypi.org/simple, https://us-python.pkg.dev/colab-wheels/public/simple/\n",
            "Requirement already satisfied: numpy in /usr/local/lib/python3.8/dist-packages (1.22.4)\n",
            "Requirement already satisfied: matplotlib in /usr/local/lib/python3.8/dist-packages (3.5.3)\n",
            "Requirement already satisfied: packaging>=20.0 in /usr/local/lib/python3.8/dist-packages (from matplotlib) (23.0)\n",
            "Requirement already satisfied: fonttools>=4.22.0 in /usr/local/lib/python3.8/dist-packages (from matplotlib) (4.38.0)\n",
            "Requirement already satisfied: pillow>=6.2.0 in /usr/local/lib/python3.8/dist-packages (from matplotlib) (7.1.2)\n",
            "Requirement already satisfied: pyparsing>=2.2.1 in /usr/local/lib/python3.8/dist-packages (from matplotlib) (3.0.9)\n",
            "Requirement already satisfied: python-dateutil>=2.7 in /usr/local/lib/python3.8/dist-packages (from matplotlib) (2.8.2)\n",
            "Requirement already satisfied: kiwisolver>=1.0.1 in /usr/local/lib/python3.8/dist-packages (from matplotlib) (1.4.4)\n",
            "Requirement already satisfied: cycler>=0.10 in /usr/local/lib/python3.8/dist-packages (from matplotlib) (0.11.0)\n",
            "Requirement already satisfied: six>=1.5 in /usr/local/lib/python3.8/dist-packages (from python-dateutil>=2.7->matplotlib) (1.15.0)\n"
          ]
        }
      ]
    },
    {
      "cell_type": "markdown",
      "source": [
        "# Ejemplo: Clasificación de Imágenes\n",
        "En este tutorial, construiremos una red neuronal para clasificar imágenes de dígitos escritos a mano. Utilizaremos el conjunto de datos MNIST, que contiene 60,000 imágenes de entrenamiento y 10,000 imágenes de prueba."
      ],
      "metadata": {
        "id": "wO9T7imawMgs"
      }
    },
    {
      "cell_type": "markdown",
      "source": [
        "## Importar bibliotecas\n",
        "Primero, importaremos las bibliotecas necesarias y cargaremos los datos de entrenamiento y prueba de MNIST utilizando la biblioteca Keras:"
      ],
      "metadata": {
        "id": "W6O6nEL6wQSQ"
      }
    },
    {
      "cell_type": "code",
      "source": [
        "import numpy as np\n",
        "import matplotlib.pyplot as plt\n",
        "from keras.datasets import mnist\n",
        "from keras.models import Sequential\n",
        "from keras.layers import Dense, Dropout, Flatten\n",
        "from keras.utils import np_utils\n",
        "\n",
        "# Cargar los datos de entrenamiento y prueba de MNIST\n",
        "(X_train, y_train), (X_test, y_test) = mnist.load_data()"
      ],
      "metadata": {
        "id": "cuKb5NGmwS21"
      },
      "execution_count": 3,
      "outputs": []
    },
    {
      "cell_type": "markdown",
      "source": [
        "El conjunto de datos \"MNIST\" es uno de los conjuntos de datos más populares en el aprendizaje profundo y la visión por computadora. Contiene imágenes de números escritos a mano, cada una etiquetada con el dígito que representa. El conjunto de datos MNIST consiste en 70,000 imágenes de tamaño 28x28 píxeles, con 60,000 imágenes destinadas al entrenamiento del modelo y 10,000 imágenes para la evaluación.\n",
        "\n",
        "El conjunto de datos MNIST se encuentra disponible en Keras como un conjunto de datos cargado por defecto, lo que significa que no necesitas descargar ni preparar el conjunto de datos por tu cuenta. Simplemente puedes importar el conjunto de datos desde el módulo keras.datasets y Keras cargará y preparará automáticamente el conjunto de datos para su uso en tu modelo."
      ],
      "metadata": {
        "id": "ZrivKaAmzYtu"
      }
    },
    {
      "cell_type": "code",
      "source": [
        "X_train"
      ],
      "metadata": {
        "colab": {
          "base_uri": "https://localhost:8080/"
        },
        "id": "hcnLCN69zsDU",
        "outputId": "b28177c9-c020-4303-c3f4-65547da86730"
      },
      "execution_count": 4,
      "outputs": [
        {
          "output_type": "execute_result",
          "data": {
            "text/plain": [
              "array([[[0, 0, 0, ..., 0, 0, 0],\n",
              "        [0, 0, 0, ..., 0, 0, 0],\n",
              "        [0, 0, 0, ..., 0, 0, 0],\n",
              "        ...,\n",
              "        [0, 0, 0, ..., 0, 0, 0],\n",
              "        [0, 0, 0, ..., 0, 0, 0],\n",
              "        [0, 0, 0, ..., 0, 0, 0]],\n",
              "\n",
              "       [[0, 0, 0, ..., 0, 0, 0],\n",
              "        [0, 0, 0, ..., 0, 0, 0],\n",
              "        [0, 0, 0, ..., 0, 0, 0],\n",
              "        ...,\n",
              "        [0, 0, 0, ..., 0, 0, 0],\n",
              "        [0, 0, 0, ..., 0, 0, 0],\n",
              "        [0, 0, 0, ..., 0, 0, 0]],\n",
              "\n",
              "       [[0, 0, 0, ..., 0, 0, 0],\n",
              "        [0, 0, 0, ..., 0, 0, 0],\n",
              "        [0, 0, 0, ..., 0, 0, 0],\n",
              "        ...,\n",
              "        [0, 0, 0, ..., 0, 0, 0],\n",
              "        [0, 0, 0, ..., 0, 0, 0],\n",
              "        [0, 0, 0, ..., 0, 0, 0]],\n",
              "\n",
              "       ...,\n",
              "\n",
              "       [[0, 0, 0, ..., 0, 0, 0],\n",
              "        [0, 0, 0, ..., 0, 0, 0],\n",
              "        [0, 0, 0, ..., 0, 0, 0],\n",
              "        ...,\n",
              "        [0, 0, 0, ..., 0, 0, 0],\n",
              "        [0, 0, 0, ..., 0, 0, 0],\n",
              "        [0, 0, 0, ..., 0, 0, 0]],\n",
              "\n",
              "       [[0, 0, 0, ..., 0, 0, 0],\n",
              "        [0, 0, 0, ..., 0, 0, 0],\n",
              "        [0, 0, 0, ..., 0, 0, 0],\n",
              "        ...,\n",
              "        [0, 0, 0, ..., 0, 0, 0],\n",
              "        [0, 0, 0, ..., 0, 0, 0],\n",
              "        [0, 0, 0, ..., 0, 0, 0]],\n",
              "\n",
              "       [[0, 0, 0, ..., 0, 0, 0],\n",
              "        [0, 0, 0, ..., 0, 0, 0],\n",
              "        [0, 0, 0, ..., 0, 0, 0],\n",
              "        ...,\n",
              "        [0, 0, 0, ..., 0, 0, 0],\n",
              "        [0, 0, 0, ..., 0, 0, 0],\n",
              "        [0, 0, 0, ..., 0, 0, 0]]], dtype=uint8)"
            ]
          },
          "metadata": {},
          "execution_count": 4
        }
      ]
    },
    {
      "cell_type": "code",
      "source": [
        "y_train"
      ],
      "metadata": {
        "colab": {
          "base_uri": "https://localhost:8080/"
        },
        "id": "AF8V7LZnztN8",
        "outputId": "6b305444-6322-4bfc-e7ad-873543fcafc9"
      },
      "execution_count": 5,
      "outputs": [
        {
          "output_type": "execute_result",
          "data": {
            "text/plain": [
              "array([5, 0, 4, ..., 5, 6, 8], dtype=uint8)"
            ]
          },
          "metadata": {},
          "execution_count": 5
        }
      ]
    },
    {
      "cell_type": "markdown",
      "source": [
        "## Preprocesamiento de datos\n",
        "Antes de entrenar la red neuronal, necesitamos preprocesar los datos. Primero, normalizaremos los píxeles de imagen para que tengan valores entre 0 y 1 en lugar de 0 y 255. Luego, convertiremos las etiquetas de clase en un formato codificado de un solo vector utilizando la función np_utils.to_categorical() de Keras:"
      ],
      "metadata": {
        "id": "JAIp0fYGwUWm"
      }
    },
    {
      "cell_type": "code",
      "source": [
        "# Normalizar los píxeles de imagen\n",
        "X_train = X_train.astype('float32') / 255\n",
        "X_test = X_test.astype('float32') / 255\n",
        "\n",
        "# Codificar las etiquetas de clase\n",
        "y_train = np_utils.to_categorical(y_train, 10)\n",
        "y_test = np_utils.to_categorical(y_test, 10)"
      ],
      "metadata": {
        "id": "_6OJ73BVwXTS"
      },
      "execution_count": 6,
      "outputs": []
    },
    {
      "cell_type": "code",
      "source": [
        "y_train"
      ],
      "metadata": {
        "colab": {
          "base_uri": "https://localhost:8080/"
        },
        "id": "EfnBmIeVz9sb",
        "outputId": "ccb8643b-15cb-4351-abdc-f7f39603d9f5"
      },
      "execution_count": 7,
      "outputs": [
        {
          "output_type": "execute_result",
          "data": {
            "text/plain": [
              "array([[0., 0., 0., ..., 0., 0., 0.],\n",
              "       [1., 0., 0., ..., 0., 0., 0.],\n",
              "       [0., 0., 0., ..., 0., 0., 0.],\n",
              "       ...,\n",
              "       [0., 0., 0., ..., 0., 0., 0.],\n",
              "       [0., 0., 0., ..., 0., 0., 0.],\n",
              "       [0., 0., 0., ..., 0., 1., 0.]], dtype=float32)"
            ]
          },
          "metadata": {},
          "execution_count": 7
        }
      ]
    },
    {
      "cell_type": "code",
      "source": [
        "y_test"
      ],
      "metadata": {
        "colab": {
          "base_uri": "https://localhost:8080/"
        },
        "id": "l68APKQ20CXh",
        "outputId": "15fb3ac2-bb6f-4b3b-8e79-1ec570188dd5"
      },
      "execution_count": 8,
      "outputs": [
        {
          "output_type": "execute_result",
          "data": {
            "text/plain": [
              "array([[0., 0., 0., ..., 1., 0., 0.],\n",
              "       [0., 0., 1., ..., 0., 0., 0.],\n",
              "       [0., 1., 0., ..., 0., 0., 0.],\n",
              "       ...,\n",
              "       [0., 0., 0., ..., 0., 0., 0.],\n",
              "       [0., 0., 0., ..., 0., 0., 0.],\n",
              "       [0., 0., 0., ..., 0., 0., 0.]], dtype=float32)"
            ]
          },
          "metadata": {},
          "execution_count": 8
        }
      ]
    },
    {
      "cell_type": "markdown",
      "source": [
        "## Construir la red neuronal\n",
        "A continuación, construiremos la red neuronal utilizando la clase Sequential de Keras. Esta clase nos permite crear una pila de capas de forma secuencial.\n",
        "\n",
        "En nuestra red neuronal, tendremos una capa de entrada que aplanará la imagen de entrada de 28x28 píxeles en un vector de una sola dimensión de 784 píxeles. Luego, tendremos dos capas ocultas con 128 y 64 neuronas, respectivamente, seguidas de una capa de salida con 10 neuronas, una para cada clase.\n",
        "\n",
        "Utilizaremos la función de activación ReLU en las capas ocultas y la función de activación softmax en la capa de salida. La función softmax asigna probabilidades a cada clase y se utiliza para la clasificación de múltiples clases.\n",
        "\n",
        "También incluiremos una capa de abandono (Dropout) en cada capa oculta para evitar el sobreajuste. La capa de abandono apaga aleatoriamente un porcentaje de las neuronas en cada iteración de entrenamiento, lo que obliga a la red neuronal a aprender características más robustas en lugar de simplemente memorizar los datos de entrenamiento."
      ],
      "metadata": {
        "id": "j6mRHaBtwZ68"
      }
    },
    {
      "cell_type": "code",
      "source": [
        "# Crear un modelo de red neuronal\n",
        "model = Sequential()\n",
        "\n",
        "# Agregar una capa de entrada que aplane la imagen en un vector de una sola dimensión\n",
        "model.add(Flatten(input_shape=X_train.shape[1:]))\n",
        "\n",
        "# Agregar dos capas ocultas con la función de activación ReLU y la capa de abandono\n",
        "model.add(Dense(128, activation='relu'))\n",
        "model.add(Dropout(0.5))\n",
        "model.add(Dense(64, activation='relu'))\n",
        "model.add(Dropout(0.5))\n",
        "\n",
        "# Agregar una capa de salida con la función de activación softmax\n",
        "model.add(Dense(10, activation='softmax'))"
      ],
      "metadata": {
        "id": "MRPJghVwwb4q"
      },
      "execution_count": 9,
      "outputs": []
    },
    {
      "cell_type": "markdown",
      "source": [
        "## Compilar el modelo\n",
        "Después de construir la red neuronal, debemos compilarla antes de entrenarla. Al compilar el modelo, debemos especificar la función de pérdida, el optimizador y las métricas que se utilizarán para evaluar el rendimiento del modelo.\n",
        "\n",
        "Utilizaremos la función de pérdida categorical_crossentropy, que se utiliza comúnmente en la clasificación de múltiples clases, el optimizador adam, que es un algoritmo de optimización eficaz y las métricas accuracy, que nos indican la precisión de la clasificación."
      ],
      "metadata": {
        "id": "vKdp_VBuwduJ"
      }
    },
    {
      "cell_type": "code",
      "source": [
        "# Compilar el modelo\n",
        "model.compile(loss='categorical_crossentropy', optimizer='adam', metrics=['accuracy'])"
      ],
      "metadata": {
        "id": "GbpX_ciewfbK"
      },
      "execution_count": 10,
      "outputs": []
    },
    {
      "cell_type": "markdown",
      "source": [
        "## Entrenar el modelo\n",
        "Una vez compilado el modelo, podemos entrenarlo en los datos de entrenamiento. Para hacerlo, utilizaremos la función fit() de Keras. Especificaremos el número de épocas de entrenamiento y el tamaño del lote (batch size), que indica el número de muestras que se procesan a la vez durante el entrenamiento."
      ],
      "metadata": {
        "id": "W_f3_7XOwhDq"
      }
    },
    {
      "cell_type": "code",
      "source": [
        "# Entrenar el modelo\n",
        "history = model.fit(X_train, y_train, validation_data=(X_test, y_test), epochs=20, batch_size=128)"
      ],
      "metadata": {
        "colab": {
          "base_uri": "https://localhost:8080/"
        },
        "id": "gc4LJdU-witm",
        "outputId": "22cdae0f-f3fb-44bd-d9d7-6c7a0c4592a0"
      },
      "execution_count": 11,
      "outputs": [
        {
          "output_type": "stream",
          "name": "stdout",
          "text": [
            "Epoch 1/20\n",
            "469/469 [==============================] - 4s 7ms/step - loss: 0.7431 - accuracy: 0.7680 - val_loss: 0.2237 - val_accuracy: 0.9338\n",
            "Epoch 2/20\n",
            "469/469 [==============================] - 5s 10ms/step - loss: 0.3662 - accuracy: 0.8966 - val_loss: 0.1777 - val_accuracy: 0.9473\n",
            "Epoch 3/20\n",
            "469/469 [==============================] - 6s 13ms/step - loss: 0.2997 - accuracy: 0.9163 - val_loss: 0.1471 - val_accuracy: 0.9567\n",
            "Epoch 4/20\n",
            "469/469 [==============================] - 5s 11ms/step - loss: 0.2681 - accuracy: 0.9247 - val_loss: 0.1364 - val_accuracy: 0.9598\n",
            "Epoch 5/20\n",
            "469/469 [==============================] - 6s 13ms/step - loss: 0.2405 - accuracy: 0.9336 - val_loss: 0.1263 - val_accuracy: 0.9622\n",
            "Epoch 6/20\n",
            "469/469 [==============================] - 3s 5ms/step - loss: 0.2234 - accuracy: 0.9383 - val_loss: 0.1168 - val_accuracy: 0.9667\n",
            "Epoch 7/20\n",
            "469/469 [==============================] - 3s 5ms/step - loss: 0.2096 - accuracy: 0.9424 - val_loss: 0.1128 - val_accuracy: 0.9664\n",
            "Epoch 8/20\n",
            "469/469 [==============================] - 3s 6ms/step - loss: 0.1953 - accuracy: 0.9456 - val_loss: 0.1122 - val_accuracy: 0.9685\n",
            "Epoch 9/20\n",
            "469/469 [==============================] - 3s 6ms/step - loss: 0.1906 - accuracy: 0.9456 - val_loss: 0.1078 - val_accuracy: 0.9682\n",
            "Epoch 10/20\n",
            "469/469 [==============================] - 3s 6ms/step - loss: 0.1840 - accuracy: 0.9477 - val_loss: 0.1059 - val_accuracy: 0.9689\n",
            "Epoch 11/20\n",
            "469/469 [==============================] - 2s 5ms/step - loss: 0.1731 - accuracy: 0.9497 - val_loss: 0.0984 - val_accuracy: 0.9722\n",
            "Epoch 12/20\n",
            "469/469 [==============================] - 2s 5ms/step - loss: 0.1678 - accuracy: 0.9518 - val_loss: 0.1024 - val_accuracy: 0.9711\n",
            "Epoch 13/20\n",
            "469/469 [==============================] - 3s 7ms/step - loss: 0.1653 - accuracy: 0.9531 - val_loss: 0.0965 - val_accuracy: 0.9722\n",
            "Epoch 14/20\n",
            "469/469 [==============================] - 3s 6ms/step - loss: 0.1581 - accuracy: 0.9550 - val_loss: 0.0977 - val_accuracy: 0.9724\n",
            "Epoch 15/20\n",
            "469/469 [==============================] - 3s 6ms/step - loss: 0.1535 - accuracy: 0.9559 - val_loss: 0.1000 - val_accuracy: 0.9726\n",
            "Epoch 16/20\n",
            "469/469 [==============================] - 3s 5ms/step - loss: 0.1539 - accuracy: 0.9561 - val_loss: 0.0953 - val_accuracy: 0.9719\n",
            "Epoch 17/20\n",
            "469/469 [==============================] - 3s 7ms/step - loss: 0.1487 - accuracy: 0.9568 - val_loss: 0.0973 - val_accuracy: 0.9729\n",
            "Epoch 18/20\n",
            "469/469 [==============================] - 3s 5ms/step - loss: 0.1479 - accuracy: 0.9578 - val_loss: 0.0964 - val_accuracy: 0.9732\n",
            "Epoch 19/20\n",
            "469/469 [==============================] - 3s 5ms/step - loss: 0.1455 - accuracy: 0.9586 - val_loss: 0.0934 - val_accuracy: 0.9734\n",
            "Epoch 20/20\n",
            "469/469 [==============================] - 2s 5ms/step - loss: 0.1368 - accuracy: 0.9606 - val_loss: 0.0995 - val_accuracy: 0.9735\n"
          ]
        }
      ]
    },
    {
      "cell_type": "markdown",
      "source": [
        "Durante el entrenamiento, el modelo ajustará los pesos de las neuronas para minimizar la función de pérdida en los datos de entrenamiento. También evaluaremos el rendimiento del modelo en los datos de prueba después de cada época de entrenamiento utilizando la función evaluate(). Esta función devuelve la pérdida del modelo y las métricas especificadas durante la compilación."
      ],
      "metadata": {
        "id": "ktXmh1hzwkbR"
      }
    },
    {
      "cell_type": "code",
      "source": [
        "# Evaluar el rendimiento del modelo en los datos de prueba\n",
        "loss, accuracy = model.evaluate(X_test, y_test)\n",
        "print(f\"Pérdida del modelo en los datos de prueba: {loss:.4f}\")\n",
        "print(f\"Precisión del modelo en los datos de prueba: {accuracy:.4f}\")"
      ],
      "metadata": {
        "colab": {
          "base_uri": "https://localhost:8080/"
        },
        "id": "GuSEXrbvwlMO",
        "outputId": "d8eb4a46-a712-4c91-ddc9-1dcf2b99f41f"
      },
      "execution_count": 12,
      "outputs": [
        {
          "output_type": "stream",
          "name": "stdout",
          "text": [
            "313/313 [==============================] - 1s 2ms/step - loss: 0.0995 - accuracy: 0.9735\n",
            "Pérdida del modelo en los datos de prueba: 0.0995\n",
            "Precisión del modelo en los datos de prueba: 0.9735\n"
          ]
        }
      ]
    },
    {
      "cell_type": "markdown",
      "source": [
        "## Visualización de resultados\n",
        "Podemos visualizar la precisión y la pérdida del modelo durante el entrenamiento utilizando la biblioteca Matplotlib. Esto nos permite ver cómo se desempeña el modelo en los datos de entrenamiento y prueba a medida que avanza el entrenamiento."
      ],
      "metadata": {
        "id": "mSz4K8oYwnV2"
      }
    },
    {
      "cell_type": "code",
      "source": [
        "# Graficar la precisión del modelo durante el entrenamiento\n",
        "plt.plot(history.history['accuracy'])\n",
        "plt.plot(history.history['val_accuracy'])\n",
        "plt.title('Precisión del modelo')\n",
        "plt.ylabel('Precisión')\n",
        "plt.xlabel('Época')\n",
        "plt.legend(['Entrenamiento', 'Prueba'], loc='upper left')\n",
        "plt.show()"
      ],
      "metadata": {
        "colab": {
          "base_uri": "https://localhost:8080/",
          "height": 297
        },
        "id": "uTDQhlV8wqus",
        "outputId": "625a9195-a745-4610-9620-a42a40aff0f5"
      },
      "execution_count": 13,
      "outputs": [
        {
          "output_type": "display_data",
          "data": {
            "text/plain": [
              "<Figure size 432x288 with 1 Axes>"
            ],
            "image/png": "[encoded data removed]"
          },
          "metadata": {
            "needs_background": "light"
          }
        }
      ]
    },
    {
      "cell_type": "code",
      "source": [
        "# Graficar la pérdida del modelo durante el entrenamiento\n",
        "plt.plot(history.history['loss'])\n",
        "plt.plot(history.history['val_loss'])\n",
        "plt.title('Pérdida del modelo')\n",
        "plt.ylabel('Pérdida')\n",
        "plt.xlabel('Época')\n",
        "plt.legend(['Entrenamiento', 'Prueba'], loc='upper left')\n",
        "plt.show()"
      ],
      "metadata": {
        "colab": {
          "base_uri": "https://localhost:8080/",
          "height": 297
        },
        "id": "C2tfiw97wr22",
        "outputId": "3352d3f9-7877-47e9-b34f-4ba130fa488d"
      },
      "execution_count": 14,
      "outputs": [
        {
          "output_type": "display_data",
          "data": {
            "text/plain": [
              "<Figure size 432x288 with 1 Axes>"
            ],
            "image/png": "[encoded data removed]"
          },
          "metadata": {
            "needs_background": "light"
          }
        }
      ]
    },
    {
      "cell_type": "markdown",
      "source": [
        "# Recomendaciones de Optimización\n",
        "\n",
        "1. **Tamaño del lote (batch size)**: Un tamaño de lote adecuado depende del tamaño del conjunto de datos y la cantidad de memoria disponible. Si tienes un conjunto de datos grande y suficiente memoria, puedes aumentar el tamaño del lote para acelerar el entrenamiento. Por ejemplo, si tienes 100,000 imágenes en un conjunto de datos, un tamaño de lote de 128 sería adecuado para la mayoría de las configuraciones de hardware. Pero si tienes suficiente memoria y hardware adecuado, podrías usar un tamaño de lote de 512 o incluso 1024 para acelerar el entrenamiento. Aquí hay un ejemplo de cómo establecer el tamaño del lote en Keras:\n",
        "```\n",
        "batch_size = 128\n",
        "model.fit(X_train, y_train, batch_size=batch_size, epochs=10)\n",
        "```\n",
        "2. **Número de épocas**: El número de épocas depende del tamaño del conjunto de datos y la complejidad del modelo. Si el modelo es demasiado simple, puede necesitar más épocas para converger, mientras que un modelo demasiado complejo puede requerir menos épocas. También es importante evitar el sobreajuste, por lo que puede ser necesario reducir el número de épocas. Por ejemplo, aquí está cómo establecer el número de épocas en Keras:\n",
        "```\n",
        "epochs = 10\n",
        "model.fit(X_train, y_train, batch_size=128, epochs=epochs)\n",
        "```\n",
        "3. **Función de pérdida**: La función de pérdida debe elegirse en función del problema de aprendizaje automático. Para un problema de clasificación binaria, la función de pérdida comúnmente utilizada es \"binary_crossentropy\". Para un problema de clasificación múltiple, la función de pérdida \"categorical_crossentropy\" suele ser la mejor opción. Aquí hay un ejemplo de cómo especificar la función de pérdida en Keras:\n",
        "```\n",
        "model.compile(optimizer='adam', loss='binary_crossentropy', metrics=['accuracy'])\n",
        "```\n",
        "4. **Optimizador**: El optimizador utilizado depende del problema de aprendizaje automático. El algoritmo \"Adam\" es el optimizador predeterminado en Keras y es una buena opción para la mayoría de los problemas. Sin embargo, hay otros optimizadores disponibles que pueden ser más efectivos para ciertos problemas. Por ejemplo, el optimizador \"RMSprop\" puede ser mejor para problemas de redes neuronales recurrentes. Aquí hay un ejemplo de cómo especificar el optimizador en Keras:\n",
        "```\n",
        "from keras.optimizers import Adam, RMSprop\n",
        "optimizer = Adam(lr=0.001)\n",
        "model.compile(optimizer=optimizer, loss='binary_crossentropy', metrics=['accuracy'])\n",
        "```\n",
        "5. **Regularización**: La regularización es una técnica para reducir el sobrefitado en la red neuronal. Una forma común de regularización es la técnica \"dropout\", que elimina aleatoriamente las neuronas durante el entrenamiento. Aquí hay un ejemplo de cómo agregar dropout a una red neuronal en Keras:\n",
        "```\n",
        "from keras.layers import Dropout\n",
        "model.add(Dense(64, activation='relu'))\n",
        "model.add(Dropout(0.5))\n",
        "model.add(Dense(1, activation='sigmoid'))\n",
        "```\n",
        "6. **Aumento de datos**: El aumento de datos es una técnica que se utiliza para aumentar la cantidad de datos de entrenamiento mediante la creación de nuevas instancias de entrenamiento a partir de las instancias de entrenamiento existentes. Esto ayuda a reducir el sobreajuste y mejorar el rendimiento del modelo. Keras proporciona una variedad de herramientas para la realización de aumentos de datos, como la rotación, el zoom, el desplazamiento, etc. Aquí hay un ejemplo de cómo realizar el aumento de datos en Keras:\n",
        "```\n",
        "from keras.preprocessing.image import ImageDataGenerator\n",
        "datagen = ImageDataGenerator(\n",
        "   rotation_range=20,\n",
        "   width_shift_range=0.1,\n",
        "   height_shift_range=0.1,\n",
        "   shear_range=0.2,\n",
        "   zoom_range=0.2,\n",
        "   horizontal_flip=True,\n",
        "   fill_mode='nearest')\n",
        "```\n",
        "7. **Inicialización de pesos**: La inicialización de pesos es una técnica para inicializar los pesos de la red neuronal con valores adecuados. La elección de la técnica de inicialización de pesos depende del tipo de capa. Por ejemplo, las capas de activación \"tanh\" y \"sigmoid\" se inicializan comúnmente con la técnica \"glorot\", mientras que las capas de activación \"ReLU\" se inicializan mejor con la técnica \"He\". Aquí hay un ejemplo de cómo inicializar los pesos de una capa en Keras:\n",
        "```\n",
        "from keras.initializers import GlorotNormal, HeNormal\n",
        "model.add(Dense(64, activation='relu', kernel_initializer=HeNormal()))\n",
        "```"
      ],
      "metadata": {
        "id": "UbJhSun3w0rl"
      }
    },
    {
      "cell_type": "markdown",
      "source": [
        "# Profundizar en la construcción y entrenamiento de redes neuronales con Keras en Python\n",
        "Ahora vamos a profundizar en la construcción y entrenamiento de redes neuronales con Keras en Python. Si ya estás familiarizado con los conceptos básicos de las redes neuronales y cómo construirlas en Keras, este tutorial es para ti.\n",
        "\n",
        "Vamos a cubrir los siguientes temas:\n",
        "\n",
        "* Capas avanzadas: dropout, batch normalization y más\n",
        "* Funciones de activación avanzadas: ReLU, LeakyReLU y más\n",
        "* Optimizadores avanzados: RMSprop, Adam y más\n",
        "* Regularización avanzada: L1, L2 y más"
      ],
      "metadata": {
        "id": "iQG_ZFwc2ob6"
      }
    },
    {
      "cell_type": "markdown",
      "source": [
        "## Capas avanzadas\n",
        "Las capas avanzadas en Keras nos permiten construir redes neuronales más complejas y efectivas. Algunas de las capas más utilizadas son:\n",
        "\n",
        "* Dropout: Esta capa se utiliza para evitar el sobreajuste. El dropout desactiva aleatoriamente algunas de las neuronas durante el entrenamiento, lo que hace que la red neuronal sea más robusta y menos sensible a las entradas específicas de los datos.\n",
        "\n",
        "* BatchNormalization: Esta capa normaliza las activaciones de la capa anterior. Esto ayuda a reducir la covariación entre las capas y a acelerar el entrenamiento.\n",
        "\n",
        "* Conv2DTranspose: Esta capa se utiliza para la construcción de redes neuronales generativas. Es la capa de convolución inversa que toma un tensor de baja dimensión y lo convierte en uno de alta dimensión.\n",
        "\n",
        "* MaxPooling2D: Esta capa reduce la dimensión espacial de los mapas de características. Esto reduce la cantidad de parámetros y el costo computacional, lo que acelera el entrenamiento.\n",
        "\n",
        "* GlobalMaxPooling2D: Esta capa realiza una reducción global de la dimensionalidad. Es útil para la clasificación de imágenes en las que la posición de los objetos no es importante.\n",
        "\n",
        "* Flatten: Esta capa se utiliza para aplanar los datos de entrada de una red neuronal. Convierte una entrada de alta dimensión, como una imagen, en una matriz unidimensional para que pueda ser procesada por una capa densa o totalmente conectada. Es comúnmente utilizada en la construcción de redes neuronales convolucionales, ya que las capas convolucionales producen mapas de características tridimensionales que deben ser aplanados antes de ser alimentados a una capa densa. La capa Flatten no tiene parámetros entrenables y simplemente reformatea los datos de entrada."
      ],
      "metadata": {
        "id": "WCosLveo3tZ1"
      }
    },
    {
      "cell_type": "code",
      "source": [
        "from keras.layers import Conv2D, MaxPooling2D, Flatten\n",
        "\n",
        "model = Sequential()\n",
        "model.add(Conv2D(32, kernel_size=(3, 3), activation='relu', input_shape=(28, 28, 1)))\n",
        "model.add(MaxPooling2D(pool_size=(2, 2)))\n",
        "model.add(Conv2D(64, (3, 3), activation='relu'))\n",
        "model.add(MaxPooling2D(pool_size=(2, 2)))\n",
        "model.add(Flatten())\n",
        "model.add(Dense(128, activation='relu'))\n",
        "model.add(Dropout(0.5))\n",
        "model.add(Dense(10, activation='softmax'))"
      ],
      "metadata": {
        "id": "hD1BucFf4OPj"
      },
      "execution_count": 15,
      "outputs": []
    },
    {
      "cell_type": "code",
      "source": [
        "# Compilar el modelo\n",
        "model.compile(loss='categorical_crossentropy', optimizer='adam', metrics=['accuracy'])"
      ],
      "metadata": {
        "id": "oWEkk6yL7O_e"
      },
      "execution_count": 16,
      "outputs": []
    },
    {
      "cell_type": "code",
      "source": [
        "# Entrenar el modelo\n",
        "history = model.fit(X_train, y_train, validation_data=(X_test, y_test), epochs=5, batch_size=128, use_multiprocessing=True)"
      ],
      "metadata": {
        "colab": {
          "base_uri": "https://localhost:8080/"
        },
        "outputId": "8a1f9425-0e7e-4447-86a7-bcca3fcb3428",
        "id": "xXtpcNUM66a4"
      },
      "execution_count": 17,
      "outputs": [
        {
          "output_type": "stream",
          "name": "stdout",
          "text": [
            "Epoch 1/5\n",
            "469/469 [==============================] - 42s 87ms/step - loss: 0.3082 - accuracy: 0.9059 - val_loss: 0.0605 - val_accuracy: 0.9806\n",
            "Epoch 2/5\n",
            "469/469 [==============================] - 41s 87ms/step - loss: 0.0979 - accuracy: 0.9708 - val_loss: 0.0456 - val_accuracy: 0.9856\n",
            "Epoch 3/5\n",
            "469/469 [==============================] - 39s 84ms/step - loss: 0.0767 - accuracy: 0.9773 - val_loss: 0.0346 - val_accuracy: 0.9870\n",
            "Epoch 4/5\n",
            "469/469 [==============================] - 40s 84ms/step - loss: 0.0608 - accuracy: 0.9825 - val_loss: 0.0286 - val_accuracy: 0.9909\n",
            "Epoch 5/5\n",
            "469/469 [==============================] - 43s 92ms/step - loss: 0.0496 - accuracy: 0.9851 - val_loss: 0.0288 - val_accuracy: 0.9904\n"
          ]
        }
      ]
    },
    {
      "cell_type": "code",
      "source": [
        "# Evaluar el rendimiento del modelo en los datos de prueba\n",
        "loss, accuracy = model.evaluate(X_test, y_test)\n",
        "print(f\"Pérdida del modelo en los datos de prueba: {loss:.4f}\")\n",
        "print(f\"Precisión del modelo en los datos de prueba: {accuracy:.4f}\")"
      ],
      "metadata": {
        "colab": {
          "base_uri": "https://localhost:8080/"
        },
        "outputId": "8e8afe91-e1ba-460d-fa9d-e3477e08904f",
        "id": "G54ZTtnQ66a5"
      },
      "execution_count": 18,
      "outputs": [
        {
          "output_type": "stream",
          "name": "stdout",
          "text": [
            "313/313 [==============================] - 2s 8ms/step - loss: 0.0288 - accuracy: 0.9904\n",
            "Pérdida del modelo en los datos de prueba: 0.0288\n",
            "Precisión del modelo en los datos de prueba: 0.9904\n"
          ]
        }
      ]
    },
    {
      "cell_type": "code",
      "source": [
        "# Graficar la precisión del modelo durante el entrenamiento\n",
        "plt.plot(history.history['accuracy'])\n",
        "plt.plot(history.history['val_accuracy'])\n",
        "plt.title('Precisión del modelo')\n",
        "plt.ylabel('Precisión')\n",
        "plt.xlabel('Época')\n",
        "plt.legend(['Entrenamiento', 'Prueba'], loc='upper left')\n",
        "plt.show()"
      ],
      "metadata": {
        "colab": {
          "base_uri": "https://localhost:8080/",
          "height": 297
        },
        "outputId": "313fb81d-02d2-4469-f799-23cc9adaa281",
        "id": "5D3XdDZf66a5"
      },
      "execution_count": 19,
      "outputs": [
        {
          "output_type": "display_data",
          "data": {
            "text/plain": [
              "<Figure size 432x288 with 1 Axes>"
            ],
            "image/png": "[encoded data removed]"
          },
          "metadata": {
            "needs_background": "light"
          }
        }
      ]
    },
    {
      "cell_type": "code",
      "source": [
        "# Graficar la pérdida del modelo durante el entrenamiento\n",
        "plt.plot(history.history['loss'])\n",
        "plt.plot(history.history['val_loss'])\n",
        "plt.title('Pérdida del modelo')\n",
        "plt.ylabel('Pérdida')\n",
        "plt.xlabel('Época')\n",
        "plt.legend(['Entrenamiento', 'Prueba'], loc='upper left')\n",
        "plt.show()"
      ],
      "metadata": {
        "colab": {
          "base_uri": "https://localhost:8080/",
          "height": 297
        },
        "outputId": "a5e06238-652a-4714-824d-a3f87f673a36",
        "id": "PxyuvjRu66a5"
      },
      "execution_count": 20,
      "outputs": [
        {
          "output_type": "display_data",
          "data": {
            "text/plain": [
              "<Figure size 432x288 with 1 Axes>"
            ],
            "image/png": "[encoded data removed]"
          },
          "metadata": {
            "needs_background": "light"
          }
        }
      ]
    },
    {
      "cell_type": "markdown",
      "source": [
        "En este ejemplo, utilizamos una capa Conv2D y una capa MaxPooling2D para extraer características de las imágenes en el conjunto de datos MNIST. También utilizamos una capa Flatten para aplanar las características extraídas en un vector y una capa Dropout para regularizar el modelo y reducir el sobreajuste."
      ],
      "metadata": {
        "id": "bmSCop4I4Q6B"
      }
    },
    {
      "cell_type": "markdown",
      "source": [
        "## Funciones de activación avanzadas\n",
        "Las funciones de activación son esenciales en las redes neuronales porque determinan la no linealidad de la red. Algunas de las funciones de activación más utilizadas son:\n",
        "\n",
        "* ReLU: Esta función de activación es la más utilizada en la actualidad debido a su simplicidad y eficacia. ReLU es una función no lineal que mapea cualquier entrada negativa a cero y cualquier entrada positiva a su valor de entrada.\n",
        "\n",
        "* LeakyReLU: Esta función de activación es similar a ReLU, pero en lugar de mapear las entradas negativas a cero, mapea las entradas negativas a un valor pequeño y positivo.\n",
        "\n",
        "* ELU: Esta función de activación es similar a ReLU, pero en lugar de mapear las entradas negativas a cero, mapea las entradas negativas a un valor exponencialmente decreciente."
      ],
      "metadata": {
        "id": "2mZAVyfA3xUP"
      }
    },
    {
      "cell_type": "code",
      "source": [
        "from keras.layers import LeakyReLU\n",
        "\n",
        "model = Sequential()\n",
        "model.add(Flatten(input_shape=(28, 28))) # Aplanar las imágenes\n",
        "model.add(Dense(64))\n",
        "model.add(LeakyReLU())\n",
        "model.add(Dense(10, activation='softmax'))"
      ],
      "metadata": {
        "id": "IoVyTVDs4TU0"
      },
      "execution_count": 21,
      "outputs": []
    },
    {
      "cell_type": "code",
      "source": [
        "# Compilar el modelo\n",
        "model.compile(loss='categorical_crossentropy', optimizer='adam', metrics=['accuracy'])"
      ],
      "metadata": {
        "id": "plWXsqfh7QsW"
      },
      "execution_count": 22,
      "outputs": []
    },
    {
      "cell_type": "code",
      "source": [
        "# Entrenar el modelo\n",
        "history = model.fit(X_train, y_train, validation_data=(X_test, y_test), epochs=20, batch_size=128, use_multiprocessing=True)"
      ],
      "metadata": {
        "colab": {
          "base_uri": "https://localhost:8080/"
        },
        "outputId": "66949271-6f17-4753-9cb8-0811fcf28b58",
        "id": "IuqKbUd168oD"
      },
      "execution_count": 23,
      "outputs": [
        {
          "output_type": "stream",
          "name": "stdout",
          "text": [
            "Epoch 1/20\n",
            "469/469 [==============================] - 2s 4ms/step - loss: 0.4336 - accuracy: 0.8807 - val_loss: 0.2651 - val_accuracy: 0.9254\n",
            "Epoch 2/20\n",
            "469/469 [==============================] - 2s 4ms/step - loss: 0.2491 - accuracy: 0.9301 - val_loss: 0.2240 - val_accuracy: 0.9353\n",
            "Epoch 3/20\n",
            "469/469 [==============================] - 2s 4ms/step - loss: 0.2055 - accuracy: 0.9424 - val_loss: 0.1850 - val_accuracy: 0.9474\n",
            "Epoch 4/20\n",
            "469/469 [==============================] - 2s 4ms/step - loss: 0.1733 - accuracy: 0.9507 - val_loss: 0.1660 - val_accuracy: 0.9517\n",
            "Epoch 5/20\n",
            "469/469 [==============================] - 2s 4ms/step - loss: 0.1499 - accuracy: 0.9580 - val_loss: 0.1451 - val_accuracy: 0.9586\n",
            "Epoch 6/20\n",
            "469/469 [==============================] - 2s 3ms/step - loss: 0.1317 - accuracy: 0.9626 - val_loss: 0.1433 - val_accuracy: 0.9593\n",
            "Epoch 7/20\n",
            "469/469 [==============================] - 2s 3ms/step - loss: 0.1174 - accuracy: 0.9664 - val_loss: 0.1271 - val_accuracy: 0.9618\n",
            "Epoch 8/20\n",
            "469/469 [==============================] - 2s 3ms/step - loss: 0.1049 - accuracy: 0.9693 - val_loss: 0.1171 - val_accuracy: 0.9643\n",
            "Epoch 9/20\n",
            "469/469 [==============================] - 2s 4ms/step - loss: 0.0952 - accuracy: 0.9723 - val_loss: 0.1175 - val_accuracy: 0.9658\n",
            "Epoch 10/20\n",
            "469/469 [==============================] - 2s 4ms/step - loss: 0.0869 - accuracy: 0.9746 - val_loss: 0.1056 - val_accuracy: 0.9686\n",
            "Epoch 11/20\n",
            "469/469 [==============================] - 2s 4ms/step - loss: 0.0798 - accuracy: 0.9768 - val_loss: 0.1071 - val_accuracy: 0.9690\n",
            "Epoch 12/20\n",
            "469/469 [==============================] - 2s 4ms/step - loss: 0.0731 - accuracy: 0.9785 - val_loss: 0.1025 - val_accuracy: 0.9699\n",
            "Epoch 13/20\n",
            "469/469 [==============================] - 2s 4ms/step - loss: 0.0675 - accuracy: 0.9803 - val_loss: 0.1061 - val_accuracy: 0.9674\n",
            "Epoch 14/20\n",
            "469/469 [==============================] - 2s 4ms/step - loss: 0.0631 - accuracy: 0.9814 - val_loss: 0.0971 - val_accuracy: 0.9709\n",
            "Epoch 15/20\n",
            "469/469 [==============================] - 2s 4ms/step - loss: 0.0580 - accuracy: 0.9830 - val_loss: 0.1053 - val_accuracy: 0.9690\n",
            "Epoch 16/20\n",
            "469/469 [==============================] - 2s 4ms/step - loss: 0.0542 - accuracy: 0.9840 - val_loss: 0.0998 - val_accuracy: 0.9719\n",
            "Epoch 17/20\n",
            "469/469 [==============================] - 2s 5ms/step - loss: 0.0510 - accuracy: 0.9847 - val_loss: 0.0977 - val_accuracy: 0.9714\n",
            "Epoch 18/20\n",
            "469/469 [==============================] - 2s 3ms/step - loss: 0.0478 - accuracy: 0.9860 - val_loss: 0.1035 - val_accuracy: 0.9706\n",
            "Epoch 19/20\n",
            "469/469 [==============================] - 2s 4ms/step - loss: 0.0443 - accuracy: 0.9867 - val_loss: 0.0942 - val_accuracy: 0.9723\n",
            "Epoch 20/20\n",
            "469/469 [==============================] - 2s 3ms/step - loss: 0.0409 - accuracy: 0.9882 - val_loss: 0.0936 - val_accuracy: 0.9744\n"
          ]
        }
      ]
    },
    {
      "cell_type": "code",
      "source": [
        "# Evaluar el rendimiento del modelo en los datos de prueba\n",
        "loss, accuracy = model.evaluate(X_test, y_test)\n",
        "print(f\"Pérdida del modelo en los datos de prueba: {loss:.4f}\")\n",
        "print(f\"Precisión del modelo en los datos de prueba: {accuracy:.4f}\")"
      ],
      "metadata": {
        "id": "Ibiisncq68oE",
        "colab": {
          "base_uri": "https://localhost:8080/"
        },
        "outputId": "73e0d54b-6bdd-4a19-ed5b-91dd5c72db65"
      },
      "execution_count": 24,
      "outputs": [
        {
          "output_type": "stream",
          "name": "stdout",
          "text": [
            "313/313 [==============================] - 1s 2ms/step - loss: 0.0936 - accuracy: 0.9744\n",
            "Pérdida del modelo en los datos de prueba: 0.0936\n",
            "Precisión del modelo en los datos de prueba: 0.9744\n"
          ]
        }
      ]
    },
    {
      "cell_type": "code",
      "source": [
        "# Graficar la precisión del modelo durante el entrenamiento\n",
        "plt.plot(history.history['accuracy'])\n",
        "plt.plot(history.history['val_accuracy'])\n",
        "plt.title('Precisión del modelo')\n",
        "plt.ylabel('Precisión')\n",
        "plt.xlabel('Época')\n",
        "plt.legend(['Entrenamiento', 'Prueba'], loc='upper left')\n",
        "plt.show()"
      ],
      "metadata": {
        "id": "y5hR6ILv68oE",
        "colab": {
          "base_uri": "https://localhost:8080/",
          "height": 297
        },
        "outputId": "76327185-0fc5-4db4-fb79-6ea9772274f5"
      },
      "execution_count": 25,
      "outputs": [
        {
          "output_type": "display_data",
          "data": {
            "text/plain": [
              "<Figure size 432x288 with 1 Axes>"
            ],
            "image/png": "[encoded data removed]"
          },
          "metadata": {
            "needs_background": "light"
          }
        }
      ]
    },
    {
      "cell_type": "code",
      "source": [
        "# Graficar la pérdida del modelo durante el entrenamiento\n",
        "plt.plot(history.history['loss'])\n",
        "plt.plot(history.history['val_loss'])\n",
        "plt.title('Pérdida del modelo')\n",
        "plt.ylabel('Pérdida')\n",
        "plt.xlabel('Época')\n",
        "plt.legend(['Entrenamiento', 'Prueba'], loc='upper left')\n",
        "plt.show()"
      ],
      "metadata": {
        "id": "xRZ5LJAY68oE",
        "colab": {
          "base_uri": "https://localhost:8080/",
          "height": 297
        },
        "outputId": "d71283ca-94d8-4a80-ae59-817b717796c0"
      },
      "execution_count": 26,
      "outputs": [
        {
          "output_type": "display_data",
          "data": {
            "text/plain": [
              "<Figure size 432x288 with 1 Axes>"
            ],
            "image/png": "[encoded data removed]"
          },
          "metadata": {
            "needs_background": "light"
          }
        }
      ]
    },
    {
      "cell_type": "markdown",
      "source": [
        "En este ejemplo, utilizamos una función de activación PReLU en lugar de la función de activación ReLU estándar. La función PReLU se ha demostrado que puede mejorar el rendimiento de la red neuronal en algunos conjuntos de datos."
      ],
      "metadata": {
        "id": "7xLSYAN_4VNx"
      }
    },
    {
      "cell_type": "markdown",
      "source": [
        "## Optimizadores avanzados\n",
        "Los optimizadores son algoritmos que se utilizan para ajustar los pesos de la red neuronal durante el entrenamiento. Algunos de los optimizadores más utilizados son:\n",
        "\n",
        "* RMSprop: Este optimizador utiliza una media móvil de los cuadrados de los gradientes para normalizar el gradiente.\n",
        "\n",
        "* Adam: Este optimizador utiliza una combinación de RMSprop y momentum para ajustar los pesos de la red neuronal. Es uno de los optimizadores más utilizados en la actualidad.\n",
        "\n",
        "* SGD: Este es el optimizador de descenso de gradiente estocástico estándar. Aunque es menos utilizado en la actualidad, todavía puede ser útil en algunos casos."
      ],
      "metadata": {
        "id": "Dre5bzdL31AX"
      }
    },
    {
      "cell_type": "code",
      "source": [
        "from keras.optimizers import Adam\n",
        "from keras.layers import Activation\n",
        "\n",
        "model = Sequential()\n",
        "model.add(Flatten(input_shape=(28, 28)))\n",
        "model.add(Activation('relu'))\n",
        "model.add(Dense(10, activation='softmax'))\n",
        "model.compile(loss='categorical_crossentropy', optimizer=Adam(lr=0.001), metrics=['accuracy'])"
      ],
      "metadata": {
        "id": "w4Vd1JrN4WxQ",
        "colab": {
          "base_uri": "https://localhost:8080/"
        },
        "outputId": "cedfb32d-be9b-4959-d5f5-98c005807418"
      },
      "execution_count": 27,
      "outputs": [
        {
          "output_type": "stream",
          "name": "stderr",
          "text": [
            "/usr/local/lib/python3.8/dist-packages/keras/optimizers/optimizer_v2/adam.py:117: UserWarning: The `lr` argument is deprecated, use `learning_rate` instead.\n",
            "  super().__init__(name, **kwargs)\n"
          ]
        }
      ]
    },
    {
      "cell_type": "code",
      "source": [
        "# Compilar el modelo\n",
        "model.compile(loss='categorical_crossentropy', optimizer='adam', metrics=['accuracy'])"
      ],
      "metadata": {
        "id": "vcLlM_oj7R84"
      },
      "execution_count": 28,
      "outputs": []
    },
    {
      "cell_type": "code",
      "source": [
        "# Entrenar el modelo\n",
        "history = model.fit(X_train, y_train, validation_data=(X_test, y_test), epochs=20, batch_size=128, use_multiprocessing=True)"
      ],
      "metadata": {
        "id": "tdWfe2gE7ARd",
        "colab": {
          "base_uri": "https://localhost:8080/"
        },
        "outputId": "e7a71048-68b7-4f77-f3ee-608170a35184"
      },
      "execution_count": 29,
      "outputs": [
        {
          "output_type": "stream",
          "name": "stdout",
          "text": [
            "Epoch 1/20\n",
            "469/469 [==============================] - 2s 3ms/step - loss: 0.6938 - accuracy: 0.8251 - val_loss: 0.3865 - val_accuracy: 0.9026\n",
            "Epoch 2/20\n",
            "469/469 [==============================] - 1s 3ms/step - loss: 0.3652 - accuracy: 0.9011 - val_loss: 0.3209 - val_accuracy: 0.9135\n",
            "Epoch 3/20\n",
            "469/469 [==============================] - 1s 2ms/step - loss: 0.3209 - accuracy: 0.9123 - val_loss: 0.2956 - val_accuracy: 0.9176\n",
            "Epoch 4/20\n",
            "469/469 [==============================] - 1s 3ms/step - loss: 0.3002 - accuracy: 0.9168 - val_loss: 0.2854 - val_accuracy: 0.9215\n",
            "Epoch 5/20\n",
            "469/469 [==============================] - 1s 2ms/step - loss: 0.2883 - accuracy: 0.9197 - val_loss: 0.2804 - val_accuracy: 0.9230\n",
            "Epoch 6/20\n",
            "469/469 [==============================] - 1s 3ms/step - loss: 0.2801 - accuracy: 0.9221 - val_loss: 0.2727 - val_accuracy: 0.9254\n",
            "Epoch 7/20\n",
            "469/469 [==============================] - 1s 3ms/step - loss: 0.2740 - accuracy: 0.9238 - val_loss: 0.2711 - val_accuracy: 0.9243\n",
            "Epoch 8/20\n",
            "469/469 [==============================] - 2s 3ms/step - loss: 0.2690 - accuracy: 0.9252 - val_loss: 0.2693 - val_accuracy: 0.9253\n",
            "Epoch 9/20\n",
            "469/469 [==============================] - 1s 3ms/step - loss: 0.2652 - accuracy: 0.9266 - val_loss: 0.2688 - val_accuracy: 0.9259\n",
            "Epoch 10/20\n",
            "469/469 [==============================] - 1s 3ms/step - loss: 0.2624 - accuracy: 0.9275 - val_loss: 0.2652 - val_accuracy: 0.9260\n",
            "Epoch 11/20\n",
            "469/469 [==============================] - 1s 2ms/step - loss: 0.2595 - accuracy: 0.9281 - val_loss: 0.2651 - val_accuracy: 0.9273\n",
            "Epoch 12/20\n",
            "469/469 [==============================] - 1s 2ms/step - loss: 0.2573 - accuracy: 0.9283 - val_loss: 0.2655 - val_accuracy: 0.9265\n",
            "Epoch 13/20\n",
            "469/469 [==============================] - 1s 3ms/step - loss: 0.2556 - accuracy: 0.9286 - val_loss: 0.2624 - val_accuracy: 0.9278\n",
            "Epoch 14/20\n",
            "469/469 [==============================] - 1s 3ms/step - loss: 0.2534 - accuracy: 0.9301 - val_loss: 0.2644 - val_accuracy: 0.9262\n",
            "Epoch 15/20\n",
            "469/469 [==============================] - 1s 2ms/step - loss: 0.2515 - accuracy: 0.9301 - val_loss: 0.2615 - val_accuracy: 0.9283\n",
            "Epoch 16/20\n",
            "469/469 [==============================] - 1s 2ms/step - loss: 0.2505 - accuracy: 0.9306 - val_loss: 0.2615 - val_accuracy: 0.9283\n",
            "Epoch 17/20\n",
            "469/469 [==============================] - 2s 3ms/step - loss: 0.2489 - accuracy: 0.9320 - val_loss: 0.2615 - val_accuracy: 0.9292\n",
            "Epoch 18/20\n",
            "469/469 [==============================] - 1s 3ms/step - loss: 0.2480 - accuracy: 0.9314 - val_loss: 0.2618 - val_accuracy: 0.9277\n",
            "Epoch 19/20\n",
            "469/469 [==============================] - 1s 2ms/step - loss: 0.2471 - accuracy: 0.9318 - val_loss: 0.2608 - val_accuracy: 0.9287\n",
            "Epoch 20/20\n",
            "469/469 [==============================] - 1s 2ms/step - loss: 0.2457 - accuracy: 0.9320 - val_loss: 0.2620 - val_accuracy: 0.9284\n"
          ]
        }
      ]
    },
    {
      "cell_type": "code",
      "source": [
        "# Evaluar el rendimiento del modelo en los datos de prueba\n",
        "loss, accuracy = model.evaluate(X_test, y_test)\n",
        "print(f\"Pérdida del modelo en los datos de prueba: {loss:.4f}\")\n",
        "print(f\"Precisión del modelo en los datos de prueba: {accuracy:.4f}\")"
      ],
      "metadata": {
        "id": "8ZKme7Az7ARf",
        "colab": {
          "base_uri": "https://localhost:8080/"
        },
        "outputId": "fd61d0c1-6a4e-4ed4-f3f5-34ee59066b3f"
      },
      "execution_count": 30,
      "outputs": [
        {
          "output_type": "stream",
          "name": "stdout",
          "text": [
            "313/313 [==============================] - 0s 1ms/step - loss: 0.2620 - accuracy: 0.9284\n",
            "Pérdida del modelo en los datos de prueba: 0.2620\n",
            "Precisión del modelo en los datos de prueba: 0.9284\n"
          ]
        }
      ]
    },
    {
      "cell_type": "code",
      "source": [
        "# Graficar la precisión del modelo durante el entrenamiento\n",
        "plt.plot(history.history['accuracy'])\n",
        "plt.plot(history.history['val_accuracy'])\n",
        "plt.title('Precisión del modelo')\n",
        "plt.ylabel('Precisión')\n",
        "plt.xlabel('Época')\n",
        "plt.legend(['Entrenamiento', 'Prueba'], loc='upper left')\n",
        "plt.show()"
      ],
      "metadata": {
        "id": "kbkhObhi7ARg",
        "colab": {
          "base_uri": "https://localhost:8080/",
          "height": 297
        },
        "outputId": "766d01ff-aede-4350-d11e-5ac3176fac00"
      },
      "execution_count": 31,
      "outputs": [
        {
          "output_type": "display_data",
          "data": {
            "text/plain": [
              "<Figure size 432x288 with 1 Axes>"
            ],
            "image/png": "[encoded data removed]"
          },
          "metadata": {
            "needs_background": "light"
          }
        }
      ]
    },
    {
      "cell_type": "code",
      "source": [
        "# Graficar la pérdida del modelo durante el entrenamiento\n",
        "plt.plot(history.history['loss'])\n",
        "plt.plot(history.history['val_loss'])\n",
        "plt.title('Pérdida del modelo')\n",
        "plt.ylabel('Pérdida')\n",
        "plt.xlabel('Época')\n",
        "plt.legend(['Entrenamiento', 'Prueba'], loc='upper left')\n",
        "plt.show()"
      ],
      "metadata": {
        "id": "tXD3Si_B7ARh",
        "colab": {
          "base_uri": "https://localhost:8080/",
          "height": 297
        },
        "outputId": "e05c11bf-665b-4874-f166-29e117d584ea"
      },
      "execution_count": 32,
      "outputs": [
        {
          "output_type": "display_data",
          "data": {
            "text/plain": [
              "<Figure size 432x288 with 1 Axes>"
            ],
            "image/png": "[encoded data removed]"
          },
          "metadata": {
            "needs_background": "light"
          }
        }
      ]
    },
    {
      "cell_type": "markdown",
      "source": [
        "En este ejemplo, utilizamos el optimizador Adam en lugar del optimizador SGD estándar. El optimizador Adam se ha demostrado que converge más rápidamente que el SGD en muchos casos."
      ],
      "metadata": {
        "id": "1ImBi5JU4Yv8"
      }
    },
    {
      "cell_type": "markdown",
      "source": [
        "## Regularización avanzada\n",
        "La regularización se utiliza para evitar el sobreajuste de la red neuronal. Algunas de las técnicas de regularización más utilizadas son:\n",
        "\n",
        "* L1: Esta técnica de regularización agrega una penalización L1 a la función de pérdida. Esto hace que los pesos más pequeños sean más importantes y reduce la complejidad de la red.\n",
        "\n",
        "* L2: Esta técnica de regularización agrega una penalización L2 a la función de pérdida. Esto hace que los pesos más grandes sean más importantes y reduce la complejidad de la red.\n",
        "\n",
        "* Dropout: Como se mencionó anteriormente, el dropout es una técnica de regularización que desactiva aleatoriamente algunas de las neuronas durante el entrenamiento."
      ],
      "metadata": {
        "id": "9IEw-mh935jB"
      }
    },
    {
      "cell_type": "code",
      "source": [
        "from keras.regularizers import l2\n",
        "\n",
        "model = Sequential()\n",
        "model.add(Dense(64, kernel_regularizer=l2(0.01)))\n",
        "model.add(Activation('relu'))\n",
        "model.add(Flatten())\n",
        "model.add(Dense(10, activation='softmax'))"
      ],
      "metadata": {
        "id": "p_KeVAby4lV3"
      },
      "execution_count": 33,
      "outputs": []
    },
    {
      "cell_type": "code",
      "source": [
        "# Compilar el modelo\n",
        "model.compile(loss='categorical_crossentropy', optimizer='adam', metrics=['accuracy'])"
      ],
      "metadata": {
        "id": "uRfYhKkc7Slb"
      },
      "execution_count": 34,
      "outputs": []
    },
    {
      "cell_type": "code",
      "source": [
        "# Entrenar el modelo\n",
        "history = model.fit(X_train, y_train, validation_data=(X_test, y_test), epochs=20, batch_size=128, use_multiprocessing=True)"
      ],
      "metadata": {
        "id": "Vxoc9dLp7Bd3",
        "colab": {
          "base_uri": "https://localhost:8080/"
        },
        "outputId": "c47b17cf-d9cc-4a63-bf9d-427833cc4243"
      },
      "execution_count": 35,
      "outputs": [
        {
          "output_type": "stream",
          "name": "stdout",
          "text": [
            "Epoch 1/20\n",
            "469/469 [==============================] - 4s 6ms/step - loss: 0.6634 - accuracy: 0.8713 - val_loss: 0.3777 - val_accuracy: 0.9212\n",
            "Epoch 2/20\n",
            "469/469 [==============================] - 3s 6ms/step - loss: 0.3514 - accuracy: 0.9243 - val_loss: 0.3077 - val_accuracy: 0.9343\n",
            "Epoch 3/20\n",
            "469/469 [==============================] - 3s 6ms/step - loss: 0.2997 - accuracy: 0.9340 - val_loss: 0.2797 - val_accuracy: 0.9399\n",
            "Epoch 4/20\n",
            "469/469 [==============================] - 3s 6ms/step - loss: 0.2711 - accuracy: 0.9405 - val_loss: 0.2508 - val_accuracy: 0.9444\n",
            "Epoch 5/20\n",
            "469/469 [==============================] - 3s 6ms/step - loss: 0.2512 - accuracy: 0.9447 - val_loss: 0.2337 - val_accuracy: 0.9483\n",
            "Epoch 6/20\n",
            "469/469 [==============================] - 3s 5ms/step - loss: 0.2358 - accuracy: 0.9475 - val_loss: 0.2242 - val_accuracy: 0.9509\n",
            "Epoch 7/20\n",
            "469/469 [==============================] - 3s 7ms/step - loss: 0.2243 - accuracy: 0.9504 - val_loss: 0.2134 - val_accuracy: 0.9525\n",
            "Epoch 8/20\n",
            "469/469 [==============================] - 3s 5ms/step - loss: 0.2149 - accuracy: 0.9519 - val_loss: 0.2055 - val_accuracy: 0.9554\n",
            "Epoch 9/20\n",
            "469/469 [==============================] - 3s 6ms/step - loss: 0.2072 - accuracy: 0.9539 - val_loss: 0.2008 - val_accuracy: 0.9557\n",
            "Epoch 10/20\n",
            "469/469 [==============================] - 2s 5ms/step - loss: 0.2003 - accuracy: 0.9549 - val_loss: 0.1928 - val_accuracy: 0.9559\n",
            "Epoch 11/20\n",
            "469/469 [==============================] - 3s 6ms/step - loss: 0.1938 - accuracy: 0.9563 - val_loss: 0.1881 - val_accuracy: 0.9569\n",
            "Epoch 12/20\n",
            "469/469 [==============================] - 3s 6ms/step - loss: 0.1895 - accuracy: 0.9571 - val_loss: 0.1852 - val_accuracy: 0.9562\n",
            "Epoch 13/20\n",
            "469/469 [==============================] - 2s 5ms/step - loss: 0.1848 - accuracy: 0.9582 - val_loss: 0.1808 - val_accuracy: 0.9583\n",
            "Epoch 14/20\n",
            "469/469 [==============================] - 2s 5ms/step - loss: 0.1814 - accuracy: 0.9582 - val_loss: 0.1822 - val_accuracy: 0.9553\n",
            "Epoch 15/20\n",
            "469/469 [==============================] - 3s 5ms/step - loss: 0.1773 - accuracy: 0.9601 - val_loss: 0.1745 - val_accuracy: 0.9604\n",
            "Epoch 16/20\n",
            "469/469 [==============================] - 3s 7ms/step - loss: 0.1744 - accuracy: 0.9607 - val_loss: 0.1739 - val_accuracy: 0.9583\n",
            "Epoch 17/20\n",
            "469/469 [==============================] - 2s 5ms/step - loss: 0.1713 - accuracy: 0.9605 - val_loss: 0.1735 - val_accuracy: 0.9576\n",
            "Epoch 18/20\n",
            "469/469 [==============================] - 2s 5ms/step - loss: 0.1689 - accuracy: 0.9612 - val_loss: 0.1700 - val_accuracy: 0.9602\n",
            "Epoch 19/20\n",
            "469/469 [==============================] - 3s 6ms/step - loss: 0.1667 - accuracy: 0.9618 - val_loss: 0.1690 - val_accuracy: 0.9610\n",
            "Epoch 20/20\n",
            "469/469 [==============================] - 3s 6ms/step - loss: 0.1632 - accuracy: 0.9626 - val_loss: 0.1674 - val_accuracy: 0.9598\n"
          ]
        }
      ]
    },
    {
      "cell_type": "code",
      "source": [
        "# Evaluar el rendimiento del modelo en los datos de prueba\n",
        "loss, accuracy = model.evaluate(X_test, y_test)\n",
        "print(f\"Pérdida del modelo en los datos de prueba: {loss:.4f}\")\n",
        "print(f\"Precisión del modelo en los datos de prueba: {accuracy:.4f}\")"
      ],
      "metadata": {
        "id": "4Ow_wYCb7Bd3",
        "colab": {
          "base_uri": "https://localhost:8080/"
        },
        "outputId": "b42430e9-7d0a-4ddb-80b8-82c4f50e9d22"
      },
      "execution_count": 36,
      "outputs": [
        {
          "output_type": "stream",
          "name": "stdout",
          "text": [
            "313/313 [==============================] - 1s 2ms/step - loss: 0.1674 - accuracy: 0.9598\n",
            "Pérdida del modelo en los datos de prueba: 0.1674\n",
            "Precisión del modelo en los datos de prueba: 0.9598\n"
          ]
        }
      ]
    },
    {
      "cell_type": "code",
      "source": [
        "# Graficar la precisión del modelo durante el entrenamiento\n",
        "plt.plot(history.history['accuracy'])\n",
        "plt.plot(history.history['val_accuracy'])\n",
        "plt.title('Precisión del modelo')\n",
        "plt.ylabel('Precisión')\n",
        "plt.xlabel('Época')\n",
        "plt.legend(['Entrenamiento', 'Prueba'], loc='upper left')\n",
        "plt.show()"
      ],
      "metadata": {
        "id": "v8TFVvLG7Bd4",
        "colab": {
          "base_uri": "https://localhost:8080/",
          "height": 297
        },
        "outputId": "ddf84974-8505-4dbf-b107-c05e28f6c75a"
      },
      "execution_count": 37,
      "outputs": [
        {
          "output_type": "display_data",
          "data": {
            "text/plain": [
              "<Figure size 432x288 with 1 Axes>"
            ],
            "image/png": "[encoded data removed]"
          },
          "metadata": {
            "needs_background": "light"
          }
        }
      ]
    },
    {
      "cell_type": "code",
      "source": [
        "# Graficar la pérdida del modelo durante el entrenamiento\n",
        "plt.plot(history.history['loss'])\n",
        "plt.plot(history.history['val_loss'])\n",
        "plt.title('Pérdida del modelo')\n",
        "plt.ylabel('Pérdida')\n",
        "plt.xlabel('Época')\n",
        "plt.legend(['Entrenamiento', 'Prueba'], loc='upper left')\n",
        "plt.show()"
      ],
      "metadata": {
        "id": "AvN_J75m7Bd4",
        "colab": {
          "base_uri": "https://localhost:8080/",
          "height": 297
        },
        "outputId": "4eeda6e9-ec8e-418c-c85a-a8393e82f035"
      },
      "execution_count": 38,
      "outputs": [
        {
          "output_type": "display_data",
          "data": {
            "text/plain": [
              "<Figure size 432x288 with 1 Axes>"
            ],
            "image/png": "[encoded data removed]"
          },
          "metadata": {
            "needs_background": "light"
          }
        }
      ]
    },
    {
      "cell_type": "markdown",
      "source": [
        "En este ejemplo, utilizamos una regularización L2 en la capa oculta de la red neuronal para reducir el sobreajuste. La regularización L2 agrega una penalización L2 a la función de pérdida."
      ],
      "metadata": {
        "id": "tir18dO74nEw"
      }
    }
  ]
}